{
 "cells": [
  {
   "cell_type": "code",
   "execution_count": 1,
   "metadata": {},
   "outputs": [],
   "source": [
    "from pathlib import Path\n",
    "\n",
    "import matplotlib.pyplot as plt\n",
    "import pandas as pd"
   ]
  },
  {
   "cell_type": "code",
   "execution_count": 2,
   "metadata": {},
   "outputs": [
    {
     "name": "stdout",
     "output_type": "stream",
     "text": [
      "PROJ_ROOT : /Users/jqi/repos/intro-to-reproducible-ml\n",
      "DATA_DIR : /Users/jqi/repos/intro-to-reproducible-ml/data/raw\n"
     ]
    }
   ],
   "source": [
    "PROJ_ROOT = Path().resolve().parent\n",
    "DATA_DIR = PROJ_ROOT / \"data\" / \"raw\"\n",
    "print(\"PROJ_ROOT :\", PROJ_ROOT)\n",
    "print(\"DATA_DIR :\", DATA_DIR)"
   ]
  },
  {
   "cell_type": "code",
   "execution_count": 3,
   "metadata": {},
   "outputs": [],
   "source": [
    "def load_data(data_path):\n",
    "    \"\"\"Load data, sorts by time, and split by city\"\"\"\n",
    "    df = pd.read_csv(data_path, index_col=[0, 1, 2]).sort_index()    \n",
    "    return df.loc[\"sj\"], df.loc[\"iq\"]"
   ]
  },
  {
   "cell_type": "markdown",
   "metadata": {},
   "source": [
    "## Training some models\n",
    "\n",
    "Now that we've explored this data, it's time to start modeling. We will be using the scikit-learn (a.k.a. sklearn) library for machine learning. It's a mature library with a comprehensive set of tools and good documentation. It also has an opinionated design that emphasizes reuse and reproducibility through its object-oriented style and \"pipeline\" concepts. We highly recommend starting with scikit-learn for most machine learning situations.\n",
    "\n",
    "We start by importing the parts of scikit-learn that we will be using."
   ]
  },
  {
   "cell_type": "code",
   "execution_count": 4,
   "metadata": {},
   "outputs": [],
   "source": [
    "from sklearn.preprocessing import StandardScaler, FunctionTransformer\n",
    "from sklearn.compose import ColumnTransformer\n",
    "from sklearn.pipeline import Pipeline\n",
    "from sklearn.base import clone\n",
    "\n",
    "from sklearn.model_selection import train_test_split\n",
    "\n",
    "from sklearn.linear_model import PoissonRegressor\n",
    "\n",
    "# For pipeline visualization\n",
    "from sklearn import set_config\n",
    "set_config(display='diagram') "
   ]
  },
  {
   "cell_type": "markdown",
   "metadata": {},
   "source": [
    "### Data"
   ]
  },
  {
   "cell_type": "markdown",
   "metadata": {},
   "source": [
    "First, let's load the training data again so we have clean, fresh dataframes that haven't been modified. "
   ]
  },
  {
   "cell_type": "code",
   "execution_count": 5,
   "metadata": {},
   "outputs": [
    {
     "name": "stdout",
     "output_type": "stream",
     "text": [
      "sj_features_df (936, 21)\n",
      "iq_features_df (520, 21)\n",
      "sj_labels_df (936, 1)\n",
      "iq_labels_df (520, 1)\n"
     ]
    }
   ],
   "source": [
    "sj_features_df, iq_features_df = load_data(DATA_DIR / \"dengue_features_train.csv\")\n",
    "sj_labels_df, iq_labels_df = load_data(DATA_DIR / \"dengue_labels_train.csv\")\n",
    "\n",
    "print(\"sj_features_df\", sj_features_df.shape)\n",
    "print(\"iq_features_df\", iq_features_df.shape)\n",
    "print(\"sj_labels_df\", sj_labels_df.shape)\n",
    "print(\"iq_labels_df\", iq_labels_df.shape)"
   ]
  },
  {
   "cell_type": "markdown",
   "metadata": {},
   "source": [
    "Next, we'll split our data into training and evaluation. It's important when evaluating model performance to do so on data not used for training. Since we have time series data, we'll do a strict-future holdout for our evaluation. Our data is already sorted by time, so we can use sklearn's `train_test_split` function _without shuffling_."
   ]
  },
  {
   "cell_type": "code",
   "execution_count": 6,
   "metadata": {},
   "outputs": [],
   "source": [
    "sj_X_train, sj_X_eval, sj_y_train, sj_y_eval = train_test_split(\n",
    "    sj_features_df,\n",
    "    sj_labels_df,\n",
    "    test_size=0.25,\n",
    "    shuffle=False,\n",
    ")\n",
    "\n",
    "iq_X_train, iq_X_eval, iq_y_train, iq_y_eval = train_test_split(\n",
    "    iq_features_df,\n",
    "    iq_labels_df,\n",
    "    test_size=0.25,\n",
    "    shuffle=False,\n",
    ")"
   ]
  },
  {
   "cell_type": "markdown",
   "metadata": {},
   "source": [
    "### Data Proprocessing"
   ]
  },
  {
   "cell_type": "markdown",
   "metadata": {},
   "source": [
    "Now let's define our preprocessing steps. We'll be doing two main things:\n",
    "- **Scaling**: This step is not critical but often useful to generally do as a rule of thumb. In our case, scaling will help the model regularize features more effectively. It will also give us model weights that can be compared across features and interpreted as feature importances. \n",
    "- **Missing Value Imputation**: This step is necessary. Most machine learning models don't handle missing values. Because we have a time series problem, we'll use forward-fill imputation as a first pass approach, where we fill using the previous timestep's value. "
   ]
  },
  {
   "cell_type": "markdown",
   "metadata": {},
   "source": [
    "sklearn doesn't have a forward-fill imputation transformer, so we'll need to make our own. This is a good demonstration of sklearn's `FunctionTransformer` class, which you can use to implement simple functions into sklearn transformers. We define a function `forward_fill` which takes a numpy array, uses the `ffill` functionality from pandas, and then returns the data back as a numpy array."
   ]
  },
  {
   "cell_type": "code",
   "execution_count": 7,
   "metadata": {},
   "outputs": [],
   "source": [
    "def forward_fill(array):\n",
    "    return pd.DataFrame(array).ffill().values\n",
    "\n",
    "forward_imputer = FunctionTransformer(forward_fill)"
   ]
  },
  {
   "cell_type": "markdown",
   "metadata": {},
   "source": [
    "Next, we'll stitch together our preprocessing steps into a preprocessor object that can be fitted and reused. We will use the `ColumnTransformer` class, which is the way sklearn expects you to pull columns out of a pandas dataframe and apply data transformations. In setting up the `ColumnTransformer`, we chain together our two preprocessing steps into one transformer using `Pipeline`, and then we set that we want to apply it to our subset of features. We will have the `ColumnTransformer` drop the remainder of the dataframe columns. "
   ]
  },
  {
   "cell_type": "code",
   "execution_count": 8,
   "metadata": {},
   "outputs": [],
   "source": [
    "features_to_use = [\n",
    "    \"reanalysis_specific_humidity_g_per_kg\", \n",
    "    \"reanalysis_dew_point_temp_k\", \n",
    "    \"station_avg_temp_c\", \n",
    "    \"station_min_temp_c\"\n",
    "]\n",
    "\n",
    "preprocessing_steps = Pipeline([\n",
    "    (\"standard_scaler\", StandardScaler()),\n",
    "    (\"forward_imputer\", forward_imputer)\n",
    "])\n",
    "\n",
    "sj_preprocessor = ColumnTransformer(\n",
    "    transformers = [\n",
    "        (\"features\", preprocessing_steps, features_to_use)\n",
    "    ],\n",
    "    remainder = \"drop\"\n",
    ")"
   ]
  },
  {
   "cell_type": "markdown",
   "metadata": {},
   "source": [
    "We actually will need a second preprocessor object. This is because the scaling is fit to data, so we need one for San Juan and another for Iquitos. You'll notice we named the preprocessor we just created `sj_preprocessor`. We can use the `clone` function make a copy for `iq`. "
   ]
  },
  {
   "cell_type": "code",
   "execution_count": 9,
   "metadata": {},
   "outputs": [],
   "source": [
    "iq_preprocessor = clone(sj_preprocessor)"
   ]
  },
  {
   "cell_type": "markdown",
   "metadata": {},
   "source": [
    "## Pipeline"
   ]
  },
  {
   "cell_type": "markdown",
   "metadata": {},
   "source": [
    "Now we'll wrap up our full modeling workflow, including the Poisson Regression model itself, into sklearn `Pipeline` objects. We used these earlier to chain our scaling and imputation. Pipelines encapsulate everything into one object with one interface, which makes it easy to train a model, save it for later, reload it, and use it again. It's a valuable tool in making your machine learning models reusable and reproducible."
   ]
  },
  {
   "cell_type": "code",
   "execution_count": 10,
   "metadata": {},
   "outputs": [
    {
     "data": {
      "text/html": [
       "<style>div.sk-top-container {color: black;background-color: white;}div.sk-toggleable {background-color: white;}label.sk-toggleable__label {cursor: pointer;display: block;width: 100%;margin-bottom: 0;padding: 0.2em 0.3em;box-sizing: border-box;text-align: center;}div.sk-toggleable__content {max-height: 0;max-width: 0;overflow: hidden;text-align: left;background-color: #f0f8ff;}div.sk-toggleable__content pre {margin: 0.2em;color: black;border-radius: 0.25em;background-color: #f0f8ff;}input.sk-toggleable__control:checked~div.sk-toggleable__content {max-height: 200px;max-width: 100%;overflow: auto;}div.sk-estimator input.sk-toggleable__control:checked~label.sk-toggleable__label {background-color: #d4ebff;}div.sk-label input.sk-toggleable__control:checked~label.sk-toggleable__label {background-color: #d4ebff;}input.sk-hidden--visually {border: 0;clip: rect(1px 1px 1px 1px);clip: rect(1px, 1px, 1px, 1px);height: 1px;margin: -1px;overflow: hidden;padding: 0;position: absolute;width: 1px;}div.sk-estimator {font-family: monospace;background-color: #f0f8ff;margin: 0.25em 0.25em;border: 1px dotted black;border-radius: 0.25em;box-sizing: border-box;}div.sk-estimator:hover {background-color: #d4ebff;}div.sk-parallel-item::after {content: \"\";width: 100%;border-bottom: 1px solid gray;flex-grow: 1;}div.sk-label:hover label.sk-toggleable__label {background-color: #d4ebff;}div.sk-serial::before {content: \"\";position: absolute;border-left: 1px solid gray;box-sizing: border-box;top: 2em;bottom: 0;left: 50%;}div.sk-serial {display: flex;flex-direction: column;align-items: center;background-color: white;}div.sk-item {z-index: 1;}div.sk-parallel {display: flex;align-items: stretch;justify-content: center;background-color: white;}div.sk-parallel-item {display: flex;flex-direction: column;position: relative;background-color: white;}div.sk-parallel-item:first-child::after {align-self: flex-end;width: 50%;}div.sk-parallel-item:last-child::after {align-self: flex-start;width: 50%;}div.sk-parallel-item:only-child::after {width: 0;}div.sk-dashed-wrapped {border: 1px dashed gray;margin: 0.2em;box-sizing: border-box;padding-bottom: 0.1em;background-color: white;position: relative;}div.sk-label label {font-family: monospace;font-weight: bold;background-color: white;display: inline-block;line-height: 1.2em;}div.sk-label-container {position: relative;z-index: 2;text-align: center;}div.sk-container {display: inline-block;position: relative;}</style><div class=\"sk-top-container\"><div class=\"sk-container\"><div class=\"sk-item sk-dashed-wrapped\"><div class=\"sk-label-container\"><div class=\"sk-label sk-toggleable\"><input class=\"sk-toggleable__control sk-hidden--visually\" id=\"3ea3356d-90b1-4abd-bba4-5a3ff4de3d6e\" type=\"checkbox\" ><label class=\"sk-toggleable__label\" for=\"3ea3356d-90b1-4abd-bba4-5a3ff4de3d6e\">Pipeline</label><div class=\"sk-toggleable__content\"><pre>Pipeline(steps=[('preprocessor',\n",
       "                 ColumnTransformer(transformers=[('features',\n",
       "                                                  Pipeline(steps=[('standard_scaler',\n",
       "                                                                   StandardScaler()),\n",
       "                                                                  ('forward_imputer',\n",
       "                                                                   FunctionTransformer(func=<function forward_fill at 0x7f9f0fe9c700>))]),\n",
       "                                                  ['reanalysis_specific_humidity_g_per_kg',\n",
       "                                                   'reanalysis_dew_point_temp_k',\n",
       "                                                   'station_avg_temp_c',\n",
       "                                                   'station_min_temp_c'])])),\n",
       "                ('estimator', PoissonRegressor())])</pre></div></div></div><div class=\"sk-serial\"><div class=\"sk-item sk-dashed-wrapped\"><div class=\"sk-label-container\"><div class=\"sk-label sk-toggleable\"><input class=\"sk-toggleable__control sk-hidden--visually\" id=\"3e5c3d3c-0611-43f9-b8f0-5bebc38f65c4\" type=\"checkbox\" ><label class=\"sk-toggleable__label\" for=\"3e5c3d3c-0611-43f9-b8f0-5bebc38f65c4\">preprocessor: ColumnTransformer</label><div class=\"sk-toggleable__content\"><pre>ColumnTransformer(transformers=[('features',\n",
       "                                 Pipeline(steps=[('standard_scaler',\n",
       "                                                  StandardScaler()),\n",
       "                                                 ('forward_imputer',\n",
       "                                                  FunctionTransformer(func=<function forward_fill at 0x7f9f0fe9c700>))]),\n",
       "                                 ['reanalysis_specific_humidity_g_per_kg',\n",
       "                                  'reanalysis_dew_point_temp_k',\n",
       "                                  'station_avg_temp_c',\n",
       "                                  'station_min_temp_c'])])</pre></div></div></div><div class=\"sk-parallel\"><div class=\"sk-parallel-item\"><div class=\"sk-item\"><div class=\"sk-label-container\"><div class=\"sk-label sk-toggleable\"><input class=\"sk-toggleable__control sk-hidden--visually\" id=\"ec904abf-a0bc-425e-a7bb-a23f05dc6a8d\" type=\"checkbox\" ><label class=\"sk-toggleable__label\" for=\"ec904abf-a0bc-425e-a7bb-a23f05dc6a8d\">features</label><div class=\"sk-toggleable__content\"><pre>['reanalysis_specific_humidity_g_per_kg', 'reanalysis_dew_point_temp_k', 'station_avg_temp_c', 'station_min_temp_c']</pre></div></div></div><div class=\"sk-serial\"><div class=\"sk-item\"><div class=\"sk-serial\"><div class=\"sk-item\"><div class=\"sk-estimator sk-toggleable\"><input class=\"sk-toggleable__control sk-hidden--visually\" id=\"e137502f-4ec8-4bb3-a92e-e37dbe148833\" type=\"checkbox\" ><label class=\"sk-toggleable__label\" for=\"e137502f-4ec8-4bb3-a92e-e37dbe148833\">StandardScaler</label><div class=\"sk-toggleable__content\"><pre>StandardScaler()</pre></div></div></div><div class=\"sk-item\"><div class=\"sk-estimator sk-toggleable\"><input class=\"sk-toggleable__control sk-hidden--visually\" id=\"0c2db48c-834e-447d-ae33-00e027747857\" type=\"checkbox\" ><label class=\"sk-toggleable__label\" for=\"0c2db48c-834e-447d-ae33-00e027747857\">FunctionTransformer</label><div class=\"sk-toggleable__content\"><pre>FunctionTransformer(func=<function forward_fill at 0x7f9f0fe9c700>)</pre></div></div></div></div></div></div></div></div></div></div><div class=\"sk-item\"><div class=\"sk-estimator sk-toggleable\"><input class=\"sk-toggleable__control sk-hidden--visually\" id=\"5760ea25-4201-4e5d-a751-b7d5ce63a72e\" type=\"checkbox\" ><label class=\"sk-toggleable__label\" for=\"5760ea25-4201-4e5d-a751-b7d5ce63a72e\">PoissonRegressor</label><div class=\"sk-toggleable__content\"><pre>PoissonRegressor()</pre></div></div></div></div></div></div></div>"
      ],
      "text/plain": [
       "Pipeline(steps=[('preprocessor',\n",
       "                 ColumnTransformer(transformers=[('features',\n",
       "                                                  Pipeline(steps=[('standard_scaler',\n",
       "                                                                   StandardScaler()),\n",
       "                                                                  ('forward_imputer',\n",
       "                                                                   FunctionTransformer(func=<function forward_fill at 0x7f9f0fe9c700>))]),\n",
       "                                                  ['reanalysis_specific_humidity_g_per_kg',\n",
       "                                                   'reanalysis_dew_point_temp_k',\n",
       "                                                   'station_avg_temp_c',\n",
       "                                                   'station_min_temp_c'])])),\n",
       "                ('estimator', PoissonRegressor())])"
      ]
     },
     "execution_count": 10,
     "metadata": {},
     "output_type": "execute_result"
    }
   ],
   "source": [
    "sj_pipeline = Pipeline([\n",
    "    (\"preprocessor\", sj_preprocessor),\n",
    "    (\"estimator\", PoissonRegressor())\n",
    "])\n",
    "\n",
    "iq_pipeline = Pipeline([\n",
    "    (\"preprocessor\", iq_preprocessor),\n",
    "    (\"estimator\", PoissonRegressor())\n",
    "])\n",
    "\n",
    "iq_pipeline"
   ]
  },
  {
   "cell_type": "markdown",
   "metadata": {},
   "source": [
    "Now, let's fit our models and evaluate them!"
   ]
  },
  {
   "cell_type": "code",
   "execution_count": 11,
   "metadata": {},
   "outputs": [
    {
     "name": "stderr",
     "output_type": "stream",
     "text": [
      "/Users/jqi/miniconda3/envs/intro-to-reproducible-ml/lib/python3.8/site-packages/sklearn/utils/validation.py:73: DataConversionWarning: A column-vector y was passed when a 1d array was expected. Please change the shape of y to (n_samples, ), for example using ravel().\n",
      "  return f(**kwargs)\n",
      "/Users/jqi/miniconda3/envs/intro-to-reproducible-ml/lib/python3.8/site-packages/sklearn/utils/validation.py:73: DataConversionWarning: A column-vector y was passed when a 1d array was expected. Please change the shape of y to (n_samples, ), for example using ravel().\n",
      "  return f(**kwargs)\n"
     ]
    }
   ],
   "source": [
    "sj_pipeline.fit(sj_X_train, sj_y_train)\n",
    "iq_pipeline.fit(iq_X_train, iq_y_train)\n",
    "\n",
    "sj_preds = sj_pipeline.predict(sj_X_eval)\n",
    "iq_preds = iq_pipeline.predict(iq_X_eval)"
   ]
  },
  {
   "cell_type": "markdown",
   "metadata": {},
   "source": [
    "We'll plot the predictions against the true case counts for both models. "
   ]
  },
  {
   "cell_type": "code",
   "execution_count": 12,
   "metadata": {},
   "outputs": [
    {
     "data": {
      "image/png": "[encoded data removed]",
      "text/plain": [
       "<Figure size 720x504 with 2 Axes>"
      ]
     },
     "metadata": {
      "needs_background": "light"
     },
     "output_type": "display_data"
    }
   ],
   "source": [
    "figs, axes = plt.subplots(nrows=2, ncols=1, figsize=(10,7))\n",
    "\n",
    "sj_y_eval.plot(ax=axes[0],legend=None)\n",
    "axes[0].plot(sj_preds, label=\"Predictions\")\n",
    "axes[0].set_ylabel(\"SJ Case Count\")\n",
    "\n",
    "iq_y_eval.rename(columns={\"total_cases\": \"Actual\"}).plot(ax=axes[1])\n",
    "axes[1].plot(iq_preds, label=\"Predictions\")\n",
    "axes[1].set_ylabel(\"IQ Case Count\")\n",
    "\n",
    "plt.suptitle(\"Dengue Predicted Cases vs. Actual Cases\")\n",
    "plt.legend()\n",
    "None"
   ]
  },
  {
   "cell_type": "markdown",
   "metadata": {},
   "source": [
    "## Reflecting on our performance\n",
    "\n",
    "These graphs can actually tell us a lot about where our model is going wrong and give us some good hints about where investments will improve the model performance. For example, we see that our model in orange does track the seasonality of Dengue cases. However, the timing of the seasonality of our predictions has a mismatch with the actual results. One potential reason for this is that our features don't look far enough into the past—that is to say, we are asking to predict cases at the same time as we are measuring percipitation. Because dengue is mosquito-borne, and the mosquito lifecycle depends on water, we need to take both the life of a mosquito and the time between infection and symptoms into account when modeling dengue. This is a critical avenue to explore when improving this model.\n",
    "\n",
    "The other important error is that our predictions are relatively consistent—we miss the spikes that are large outbreaks. One reason is that we don't take into account the contagiousness of dengue. A possible way to account for this is to build a model that progressively predicts a new value while taking into account the previous prediction. By training on the dengue outbreaks and then using the predicted number of patients in the week before, we can start to model this time dependence that the current model misses.\n",
    "\n",
    "We also know that Poisson regression is not the best suited for this dataset. We saw earlier than our variance in counts is higher than the mean, making it negative binomial regression more appropriate. While sklearn doesn't offer negative binomial regression, you could use the [statsmodel](https://www.statsmodels.org/stable/generated/statsmodels.genmod.families.family.NegativeBinomial.html) package. You can also take advantage of sklearn's extendability to wrap statsmodel's `NegativeBinomial` model inside custom sklearn estimator, so that we can plug it into our sklearn pipeline. More about custom sklearn estimators is available in their [documentation](https://scikit-learn.org/stable/developers/develop.html#rolling-your-own-estimator). \n",
    "\n",
    "So, we know we're not going to win this thing, but let's submit the predictions anyway!"
   ]
  },
  {
   "cell_type": "markdown",
   "metadata": {},
   "source": [
    "### Generating a submission"
   ]
  },
  {
   "cell_type": "markdown",
   "metadata": {},
   "source": [
    "First, we want to retrain our models on the full dataset."
   ]
  },
  {
   "cell_type": "code",
   "execution_count": 13,
   "metadata": {},
   "outputs": [
    {
     "name": "stderr",
     "output_type": "stream",
     "text": [
      "/Users/jqi/miniconda3/envs/intro-to-reproducible-ml/lib/python3.8/site-packages/sklearn/utils/validation.py:73: DataConversionWarning: A column-vector y was passed when a 1d array was expected. Please change the shape of y to (n_samples, ), for example using ravel().\n",
      "  return f(**kwargs)\n",
      "/Users/jqi/miniconda3/envs/intro-to-reproducible-ml/lib/python3.8/site-packages/sklearn/utils/validation.py:73: DataConversionWarning: A column-vector y was passed when a 1d array was expected. Please change the shape of y to (n_samples, ), for example using ravel().\n",
      "  return f(**kwargs)\n"
     ]
    }
   ],
   "source": [
    "sj_pipeline.fit(sj_features_df, sj_labels_df)\n",
    "iq_pipeline.fit(iq_features_df, iq_labels_df)\n",
    "None"
   ]
  },
  {
   "cell_type": "markdown",
   "metadata": {},
   "source": [
    "Now, we'll load our test data and generate predictions."
   ]
  },
  {
   "cell_type": "code",
   "execution_count": 14,
   "metadata": {},
   "outputs": [
    {
     "name": "stdout",
     "output_type": "stream",
     "text": [
      "sj_test_df (260, 21)\n",
      "iq_test_df (156, 21)\n"
     ]
    }
   ],
   "source": [
    "sj_test_df, iq_test_df = load_data(DATA_DIR / \"dengue_features_test.csv\")\n",
    "\n",
    "print(\"sj_test_df\", sj_test_df.shape)\n",
    "print(\"iq_test_df\", iq_test_df.shape)"
   ]
  },
  {
   "cell_type": "code",
   "execution_count": 15,
   "metadata": {},
   "outputs": [],
   "source": [
    "sj_test_preds = sj_pipeline.predict(sj_test_df)\n",
    "iq_test_preds = iq_pipeline.predict(iq_test_df)"
   ]
  },
  {
   "cell_type": "markdown",
   "metadata": {},
   "source": [
    "Then, we'll load up the submission format and plug our predictions in. "
   ]
  },
  {
   "cell_type": "code",
   "execution_count": 16,
   "metadata": {},
   "outputs": [
    {
     "name": "stdout",
     "output_type": "stream",
     "text": [
      "OUTPUT_DIR :  /Users/jqi/repos/intro-to-reproducible-ml/data/processed\n"
     ]
    }
   ],
   "source": [
    "OUTPUT_DIR = PROJ_ROOT / \"data\" / \"processed\"\n",
    "print(\"OUTPUT_DIR : \", OUTPUT_DIR)"
   ]
  },
  {
   "cell_type": "code",
   "execution_count": 18,
   "metadata": {},
   "outputs": [
    {
     "data": {
      "text/html": [
       "<div>\n",
       "<style scoped>\n",
       "    .dataframe tbody tr th:only-of-type {\n",
       "        vertical-align: middle;\n",
       "    }\n",
       "\n",
       "    .dataframe tbody tr th {\n",
       "        vertical-align: top;\n",
       "    }\n",
       "\n",
       "    .dataframe thead th {\n",
       "        text-align: right;\n",
       "    }\n",
       "</style>\n",
       "<table border=\"1\" class=\"dataframe\">\n",
       "  <thead>\n",
       "    <tr style=\"text-align: right;\">\n",
       "      <th></th>\n",
       "      <th></th>\n",
       "      <th></th>\n",
       "      <th>total_cases</th>\n",
       "    </tr>\n",
       "    <tr>\n",
       "      <th>city</th>\n",
       "      <th>year</th>\n",
       "      <th>weekofyear</th>\n",
       "      <th></th>\n",
       "    </tr>\n",
       "  </thead>\n",
       "  <tbody>\n",
       "    <tr>\n",
       "      <th rowspan=\"10\" valign=\"top\">sj</th>\n",
       "      <th rowspan=\"10\" valign=\"top\">2008</th>\n",
       "      <th>18</th>\n",
       "      <td>28</td>\n",
       "    </tr>\n",
       "    <tr>\n",
       "      <th>19</th>\n",
       "      <td>26</td>\n",
       "    </tr>\n",
       "    <tr>\n",
       "      <th>20</th>\n",
       "      <td>36</td>\n",
       "    </tr>\n",
       "    <tr>\n",
       "      <th>21</th>\n",
       "      <td>29</td>\n",
       "    </tr>\n",
       "    <tr>\n",
       "      <th>22</th>\n",
       "      <td>31</td>\n",
       "    </tr>\n",
       "    <tr>\n",
       "      <th>23</th>\n",
       "      <td>33</td>\n",
       "    </tr>\n",
       "    <tr>\n",
       "      <th>24</th>\n",
       "      <td>35</td>\n",
       "    </tr>\n",
       "    <tr>\n",
       "      <th>25</th>\n",
       "      <td>41</td>\n",
       "    </tr>\n",
       "    <tr>\n",
       "      <th>26</th>\n",
       "      <td>43</td>\n",
       "    </tr>\n",
       "    <tr>\n",
       "      <th>27</th>\n",
       "      <td>42</td>\n",
       "    </tr>\n",
       "  </tbody>\n",
       "</table>\n",
       "</div>"
      ],
      "text/plain": [
       "                      total_cases\n",
       "city year weekofyear             \n",
       "sj   2008 18                   28\n",
       "          19                   26\n",
       "          20                   36\n",
       "          21                   29\n",
       "          22                   31\n",
       "          23                   33\n",
       "          24                   35\n",
       "          25                   41\n",
       "          26                   43\n",
       "          27                   42"
      ]
     },
     "execution_count": 18,
     "metadata": {},
     "output_type": "execute_result"
    }
   ],
   "source": [
    "sj_submission_df, iq_submission_df = load_data(DATA_DIR / \"submission_format.csv\")\n",
    "\n",
    "sj_submission_df[\"total_cases\"] = sj_test_preds.astype(int)\n",
    "iq_submission_df[\"total_cases\"] = iq_test_preds.astype(int)\n",
    "\n",
    "# Rejoin SJ and IQ together. \n",
    "submission_df = pd.concat({\n",
    "    \"sj\": sj_submission_df, \n",
    "    \"iq\": iq_submission_df\n",
    "}, names=[\"city\"])\n",
    "\n",
    "submission_df.to_csv(OUTPUT_DIR / \"submission.csv\")\n",
    "\n",
    "submission_df.head(10)"
   ]
  },
  {
   "cell_type": "code",
   "execution_count": null,
   "metadata": {},
   "outputs": [],
   "source": []
  }
 ],
 "metadata": {
  "anaconda-cloud": {},
  "kernelspec": {
   "display_name": "Python 3",
   "language": "python",
   "name": "python3"
  },
  "language_info": {
   "codemirror_mode": {
    "name": "ipython",
    "version": 3
   },
   "file_extension": ".py",
   "mimetype": "text/x-python",
   "name": "python",
   "nbconvert_exporter": "python",
   "pygments_lexer": "ipython3",
   "version": "3.8.6"
  }
 },
 "nbformat": 4,
 "nbformat_minor": 4
}
