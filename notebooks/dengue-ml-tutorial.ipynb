{
 "cells": [
  {
   "cell_type": "markdown",
   "metadata": {},
   "source": [
    "#  Introduction to Reproducible Machine Learning in Python\n",
    "\n",
    "## Tutorial Goals\n",
    "\n",
    "This is a tutorial for Introduction to Reproducible Machine Learning in Python at [Good Tech Fest](https://www.goodtechfest.com/) Data Science Day November 2020. We will be working with dengue fever data from the [DengAI: Predicting Disease Spread](https://www.drivendata.org/competitions/44/dengai-predicting-disease-spread/) practice machine learning competition on DrivenData.\n",
    "\n",
    "This notebook is adapted from the [benchmark walkthrough blog post](https://www.drivendata.co/blog/dengue-benchmark/). This tutorial will walk you through the competition. We will show you how to load the data and do a quick exploratory analysis. Then, we will train a simple model, make some predictions, and then submit those predictions to the competition.\n",
    "\n",
    "A secondary goal is to introduce tools and best practices for reproducibility along the way. These are our main tools, some of which we've already introduced:\n",
    "\n",
    "1. Reproducible environments with [conda](https://docs.conda.io/en/latest/), and environment manager.\n",
    "2. A standardized, flexible project structure with [Cookie Cutter Data Science](https://drivendata.github.io/cookiecutter-data-science/).\n",
    "2. Easy code review and change tracking with [nbautoexport](https://github.com/drivendataorg/nbautoexport).\n",
    "3. [Jupyter](https://jupyter.org/) notebooks/lab for [literate programming](https://en.wikipedia.org/wiki/Literate_programming).\n",
    "4. [scikit-learn](https://scikit-learn.org/) for self-contained, reusable ML pipelines\n",
    "\n",
    "## Problem Introduction\n",
    "----------------------\n",
    "\n",
    "Dengue fever is bad. It's real bad. Dengue is a mosquito-borne disease that occurs in tropical and sub-tropical parts of the world. In mild cases, symptoms are similar to the flu: fever, rash and muscle and joint pain. But severe cases are dangerous, and dengue fever can cause severe bleeding, low blood pressure and even death.\n",
    "\n",
    "Because it is carried by mosquitoes, the transmission dynamics of dengue are related to climate variables such as temperature and precipitation. Although the relationship to climate is complex, a growing number of scientists argue that climate change is likely to produce distributional shifts that will have significant public health implications worldwide.\n",
    "\n",
    "We've [launched a competition](https://www.drivendata.org/competitions/44/) to use open data to predict the occurrence of Dengue based on climatological data. Here's a look at the data and how to get started!"
   ]
  },
  {
   "cell_type": "markdown",
   "metadata": {},
   "source": [
    "### Import our tools and data\n",
    "\n",
    "As always, we begin with the sacred `import`'s of data science:"
   ]
  },
  {
   "cell_type": "code",
   "execution_count": 1,
   "metadata": {
    "collapsed": false,
    "jupyter": {
     "outputs_hidden": false
    }
   },
   "outputs": [],
   "source": [
    "from pathlib import Path\n",
    "\n",
    "import pandas as pd\n",
    "import numpy as np\n",
    "\n",
    "from matplotlib import pyplot as plt\n",
    "import seaborn as sns\n",
    "\n",
    "%matplotlib inline\n",
    "\n",
    "# turn off warnings just for the sake of this tutorial\n",
    "from warnings import filterwarnings\n",
    "filterwarnings('ignore')"
   ]
  },
  {
   "cell_type": "markdown",
   "metadata": {},
   "source": [
    "## A Tale of Two Cities\n",
    "\n",
    "![](https://community.drivendata.org/uploads/default/original/1X/4c3a8204d1715b5e2ee24da78abbad1515eccd5f.png)\n",
    "\n",
    "This dataset has two cities in it: San Juan, Puerto Rico (right) and Iquitos, Peru (left). Since we hypothesize that the spread of dengue may follow different patterns between the two, we will divide the dataset, train separate models for each city, and then join our predictions before making our final submission."
   ]
  },
  {
   "cell_type": "markdown",
   "metadata": {},
   "source": [
    "As part of the [Cookiecutter Data Science](https://drivendata.github.io/cookiecutter-data-science/) project structure, we recommend keeping data in a `data/` directory, and further having a `data/raw/` subdirectory where the raw data lives unchanging."
   ]
  },
  {
   "cell_type": "code",
   "execution_count": 2,
   "metadata": {},
   "outputs": [
    {
     "name": "stdout",
     "output_type": "stream",
     "text": [
      "PROJ_ROOT : /Users/jqi/repos/intro-to-reproducible-ml\n",
      "DATA_DIR : /Users/jqi/repos/intro-to-reproducible-ml/data/raw\n"
     ]
    }
   ],
   "source": [
    "PROJ_ROOT = Path().resolve().parent\n",
    "DATA_DIR = PROJ_ROOT / \"data\" / \"raw\"\n",
    "print(\"PROJ_ROOT :\", PROJ_ROOT)\n",
    "print(\"DATA_DIR :\", DATA_DIR)"
   ]
  },
  {
   "cell_type": "markdown",
   "metadata": {},
   "source": [
    "Let's load the data from that path and take a look at our features."
   ]
  },
  {
   "cell_type": "code",
   "execution_count": 3,
   "metadata": {},
   "outputs": [],
   "source": [
    "# load the provided data\n",
    "\n",
    "train_features = pd.read_csv(DATA_DIR / 'dengue_features_train.csv',\n",
    "                             index_col=[0,1,2])\n",
    "\n",
    "train_labels = pd.read_csv(DATA_DIR / 'dengue_labels_train.csv',\n",
    "                           index_col=[0,1,2])"
   ]
  },
  {
   "cell_type": "code",
   "execution_count": 4,
   "metadata": {},
   "outputs": [
    {
     "data": {
      "text/html": [
       "<div>\n",
       "<style scoped>\n",
       "    .dataframe tbody tr th:only-of-type {\n",
       "        vertical-align: middle;\n",
       "    }\n",
       "\n",
       "    .dataframe tbody tr th {\n",
       "        vertical-align: top;\n",
       "    }\n",
       "\n",
       "    .dataframe thead th {\n",
       "        text-align: right;\n",
       "    }\n",
       "</style>\n",
       "<table border=\"1\" class=\"dataframe\">\n",
       "  <thead>\n",
       "    <tr style=\"text-align: right;\">\n",
       "      <th></th>\n",
       "      <th></th>\n",
       "      <th></th>\n",
       "      <th>week_start_date</th>\n",
       "      <th>ndvi_ne</th>\n",
       "      <th>ndvi_nw</th>\n",
       "      <th>ndvi_se</th>\n",
       "      <th>ndvi_sw</th>\n",
       "      <th>precipitation_amt_mm</th>\n",
       "      <th>reanalysis_air_temp_k</th>\n",
       "      <th>reanalysis_avg_temp_k</th>\n",
       "      <th>reanalysis_dew_point_temp_k</th>\n",
       "      <th>reanalysis_max_air_temp_k</th>\n",
       "      <th>...</th>\n",
       "      <th>reanalysis_precip_amt_kg_per_m2</th>\n",
       "      <th>reanalysis_relative_humidity_percent</th>\n",
       "      <th>reanalysis_sat_precip_amt_mm</th>\n",
       "      <th>reanalysis_specific_humidity_g_per_kg</th>\n",
       "      <th>reanalysis_tdtr_k</th>\n",
       "      <th>station_avg_temp_c</th>\n",
       "      <th>station_diur_temp_rng_c</th>\n",
       "      <th>station_max_temp_c</th>\n",
       "      <th>station_min_temp_c</th>\n",
       "      <th>station_precip_mm</th>\n",
       "    </tr>\n",
       "    <tr>\n",
       "      <th>city</th>\n",
       "      <th>year</th>\n",
       "      <th>weekofyear</th>\n",
       "      <th></th>\n",
       "      <th></th>\n",
       "      <th></th>\n",
       "      <th></th>\n",
       "      <th></th>\n",
       "      <th></th>\n",
       "      <th></th>\n",
       "      <th></th>\n",
       "      <th></th>\n",
       "      <th></th>\n",
       "      <th></th>\n",
       "      <th></th>\n",
       "      <th></th>\n",
       "      <th></th>\n",
       "      <th></th>\n",
       "      <th></th>\n",
       "      <th></th>\n",
       "      <th></th>\n",
       "      <th></th>\n",
       "      <th></th>\n",
       "      <th></th>\n",
       "    </tr>\n",
       "  </thead>\n",
       "  <tbody>\n",
       "    <tr>\n",
       "      <th rowspan=\"5\" valign=\"top\">sj</th>\n",
       "      <th rowspan=\"5\" valign=\"top\">1990</th>\n",
       "      <th>18</th>\n",
       "      <td>1990-04-30</td>\n",
       "      <td>0.122600</td>\n",
       "      <td>0.103725</td>\n",
       "      <td>0.198483</td>\n",
       "      <td>0.177617</td>\n",
       "      <td>12.42</td>\n",
       "      <td>297.572857</td>\n",
       "      <td>297.742857</td>\n",
       "      <td>292.414286</td>\n",
       "      <td>299.8</td>\n",
       "      <td>...</td>\n",
       "      <td>32.00</td>\n",
       "      <td>73.365714</td>\n",
       "      <td>12.42</td>\n",
       "      <td>14.012857</td>\n",
       "      <td>2.628571</td>\n",
       "      <td>25.442857</td>\n",
       "      <td>6.900000</td>\n",
       "      <td>29.4</td>\n",
       "      <td>20.0</td>\n",
       "      <td>16.0</td>\n",
       "    </tr>\n",
       "    <tr>\n",
       "      <th>19</th>\n",
       "      <td>1990-05-07</td>\n",
       "      <td>0.169900</td>\n",
       "      <td>0.142175</td>\n",
       "      <td>0.162357</td>\n",
       "      <td>0.155486</td>\n",
       "      <td>22.82</td>\n",
       "      <td>298.211429</td>\n",
       "      <td>298.442857</td>\n",
       "      <td>293.951429</td>\n",
       "      <td>300.9</td>\n",
       "      <td>...</td>\n",
       "      <td>17.94</td>\n",
       "      <td>77.368571</td>\n",
       "      <td>22.82</td>\n",
       "      <td>15.372857</td>\n",
       "      <td>2.371429</td>\n",
       "      <td>26.714286</td>\n",
       "      <td>6.371429</td>\n",
       "      <td>31.7</td>\n",
       "      <td>22.2</td>\n",
       "      <td>8.6</td>\n",
       "    </tr>\n",
       "    <tr>\n",
       "      <th>20</th>\n",
       "      <td>1990-05-14</td>\n",
       "      <td>0.032250</td>\n",
       "      <td>0.172967</td>\n",
       "      <td>0.157200</td>\n",
       "      <td>0.170843</td>\n",
       "      <td>34.54</td>\n",
       "      <td>298.781429</td>\n",
       "      <td>298.878571</td>\n",
       "      <td>295.434286</td>\n",
       "      <td>300.5</td>\n",
       "      <td>...</td>\n",
       "      <td>26.10</td>\n",
       "      <td>82.052857</td>\n",
       "      <td>34.54</td>\n",
       "      <td>16.848571</td>\n",
       "      <td>2.300000</td>\n",
       "      <td>26.714286</td>\n",
       "      <td>6.485714</td>\n",
       "      <td>32.2</td>\n",
       "      <td>22.8</td>\n",
       "      <td>41.4</td>\n",
       "    </tr>\n",
       "    <tr>\n",
       "      <th>21</th>\n",
       "      <td>1990-05-21</td>\n",
       "      <td>0.128633</td>\n",
       "      <td>0.245067</td>\n",
       "      <td>0.227557</td>\n",
       "      <td>0.235886</td>\n",
       "      <td>15.36</td>\n",
       "      <td>298.987143</td>\n",
       "      <td>299.228571</td>\n",
       "      <td>295.310000</td>\n",
       "      <td>301.4</td>\n",
       "      <td>...</td>\n",
       "      <td>13.90</td>\n",
       "      <td>80.337143</td>\n",
       "      <td>15.36</td>\n",
       "      <td>16.672857</td>\n",
       "      <td>2.428571</td>\n",
       "      <td>27.471429</td>\n",
       "      <td>6.771429</td>\n",
       "      <td>33.3</td>\n",
       "      <td>23.3</td>\n",
       "      <td>4.0</td>\n",
       "    </tr>\n",
       "    <tr>\n",
       "      <th>22</th>\n",
       "      <td>1990-05-28</td>\n",
       "      <td>0.196200</td>\n",
       "      <td>0.262200</td>\n",
       "      <td>0.251200</td>\n",
       "      <td>0.247340</td>\n",
       "      <td>7.52</td>\n",
       "      <td>299.518571</td>\n",
       "      <td>299.664286</td>\n",
       "      <td>295.821429</td>\n",
       "      <td>301.9</td>\n",
       "      <td>...</td>\n",
       "      <td>12.20</td>\n",
       "      <td>80.460000</td>\n",
       "      <td>7.52</td>\n",
       "      <td>17.210000</td>\n",
       "      <td>3.014286</td>\n",
       "      <td>28.942857</td>\n",
       "      <td>9.371429</td>\n",
       "      <td>35.0</td>\n",
       "      <td>23.9</td>\n",
       "      <td>5.8</td>\n",
       "    </tr>\n",
       "    <tr>\n",
       "      <th>...</th>\n",
       "      <th>...</th>\n",
       "      <th>...</th>\n",
       "      <td>...</td>\n",
       "      <td>...</td>\n",
       "      <td>...</td>\n",
       "      <td>...</td>\n",
       "      <td>...</td>\n",
       "      <td>...</td>\n",
       "      <td>...</td>\n",
       "      <td>...</td>\n",
       "      <td>...</td>\n",
       "      <td>...</td>\n",
       "      <td>...</td>\n",
       "      <td>...</td>\n",
       "      <td>...</td>\n",
       "      <td>...</td>\n",
       "      <td>...</td>\n",
       "      <td>...</td>\n",
       "      <td>...</td>\n",
       "      <td>...</td>\n",
       "      <td>...</td>\n",
       "      <td>...</td>\n",
       "      <td>...</td>\n",
       "    </tr>\n",
       "    <tr>\n",
       "      <th rowspan=\"5\" valign=\"top\">iq</th>\n",
       "      <th rowspan=\"5\" valign=\"top\">2010</th>\n",
       "      <th>21</th>\n",
       "      <td>2010-05-28</td>\n",
       "      <td>0.342750</td>\n",
       "      <td>0.318900</td>\n",
       "      <td>0.256343</td>\n",
       "      <td>0.292514</td>\n",
       "      <td>55.30</td>\n",
       "      <td>299.334286</td>\n",
       "      <td>300.771429</td>\n",
       "      <td>296.825714</td>\n",
       "      <td>309.7</td>\n",
       "      <td>...</td>\n",
       "      <td>45.00</td>\n",
       "      <td>88.765714</td>\n",
       "      <td>55.30</td>\n",
       "      <td>18.485714</td>\n",
       "      <td>9.800000</td>\n",
       "      <td>28.633333</td>\n",
       "      <td>11.933333</td>\n",
       "      <td>35.4</td>\n",
       "      <td>22.4</td>\n",
       "      <td>27.0</td>\n",
       "    </tr>\n",
       "    <tr>\n",
       "      <th>22</th>\n",
       "      <td>2010-06-04</td>\n",
       "      <td>0.160157</td>\n",
       "      <td>0.160371</td>\n",
       "      <td>0.136043</td>\n",
       "      <td>0.225657</td>\n",
       "      <td>86.47</td>\n",
       "      <td>298.330000</td>\n",
       "      <td>299.392857</td>\n",
       "      <td>296.452857</td>\n",
       "      <td>308.5</td>\n",
       "      <td>...</td>\n",
       "      <td>207.10</td>\n",
       "      <td>91.600000</td>\n",
       "      <td>86.47</td>\n",
       "      <td>18.070000</td>\n",
       "      <td>7.471429</td>\n",
       "      <td>27.433333</td>\n",
       "      <td>10.500000</td>\n",
       "      <td>34.7</td>\n",
       "      <td>21.7</td>\n",
       "      <td>36.6</td>\n",
       "    </tr>\n",
       "    <tr>\n",
       "      <th>23</th>\n",
       "      <td>2010-06-11</td>\n",
       "      <td>0.247057</td>\n",
       "      <td>0.146057</td>\n",
       "      <td>0.250357</td>\n",
       "      <td>0.233714</td>\n",
       "      <td>58.94</td>\n",
       "      <td>296.598571</td>\n",
       "      <td>297.592857</td>\n",
       "      <td>295.501429</td>\n",
       "      <td>305.5</td>\n",
       "      <td>...</td>\n",
       "      <td>50.60</td>\n",
       "      <td>94.280000</td>\n",
       "      <td>58.94</td>\n",
       "      <td>17.008571</td>\n",
       "      <td>7.500000</td>\n",
       "      <td>24.400000</td>\n",
       "      <td>6.900000</td>\n",
       "      <td>32.2</td>\n",
       "      <td>19.2</td>\n",
       "      <td>7.4</td>\n",
       "    </tr>\n",
       "    <tr>\n",
       "      <th>24</th>\n",
       "      <td>2010-06-18</td>\n",
       "      <td>0.333914</td>\n",
       "      <td>0.245771</td>\n",
       "      <td>0.278886</td>\n",
       "      <td>0.325486</td>\n",
       "      <td>59.67</td>\n",
       "      <td>296.345714</td>\n",
       "      <td>297.521429</td>\n",
       "      <td>295.324286</td>\n",
       "      <td>306.1</td>\n",
       "      <td>...</td>\n",
       "      <td>62.33</td>\n",
       "      <td>94.660000</td>\n",
       "      <td>59.67</td>\n",
       "      <td>16.815714</td>\n",
       "      <td>7.871429</td>\n",
       "      <td>25.433333</td>\n",
       "      <td>8.733333</td>\n",
       "      <td>31.2</td>\n",
       "      <td>21.0</td>\n",
       "      <td>16.0</td>\n",
       "    </tr>\n",
       "    <tr>\n",
       "      <th>25</th>\n",
       "      <td>2010-06-25</td>\n",
       "      <td>0.298186</td>\n",
       "      <td>0.232971</td>\n",
       "      <td>0.274214</td>\n",
       "      <td>0.315757</td>\n",
       "      <td>63.22</td>\n",
       "      <td>298.097143</td>\n",
       "      <td>299.835714</td>\n",
       "      <td>295.807143</td>\n",
       "      <td>307.8</td>\n",
       "      <td>...</td>\n",
       "      <td>36.90</td>\n",
       "      <td>89.082857</td>\n",
       "      <td>63.22</td>\n",
       "      <td>17.355714</td>\n",
       "      <td>11.014286</td>\n",
       "      <td>27.475000</td>\n",
       "      <td>9.900000</td>\n",
       "      <td>33.7</td>\n",
       "      <td>22.2</td>\n",
       "      <td>20.4</td>\n",
       "    </tr>\n",
       "  </tbody>\n",
       "</table>\n",
       "<p>1456 rows × 21 columns</p>\n",
       "</div>"
      ],
      "text/plain": [
       "                     week_start_date   ndvi_ne   ndvi_nw   ndvi_se   ndvi_sw  \\\n",
       "city year weekofyear                                                           \n",
       "sj   1990 18              1990-04-30  0.122600  0.103725  0.198483  0.177617   \n",
       "          19              1990-05-07  0.169900  0.142175  0.162357  0.155486   \n",
       "          20              1990-05-14  0.032250  0.172967  0.157200  0.170843   \n",
       "          21              1990-05-21  0.128633  0.245067  0.227557  0.235886   \n",
       "          22              1990-05-28  0.196200  0.262200  0.251200  0.247340   \n",
       "...                              ...       ...       ...       ...       ...   \n",
       "iq   2010 21              2010-05-28  0.342750  0.318900  0.256343  0.292514   \n",
       "          22              2010-06-04  0.160157  0.160371  0.136043  0.225657   \n",
       "          23              2010-06-11  0.247057  0.146057  0.250357  0.233714   \n",
       "          24              2010-06-18  0.333914  0.245771  0.278886  0.325486   \n",
       "          25              2010-06-25  0.298186  0.232971  0.274214  0.315757   \n",
       "\n",
       "                      precipitation_amt_mm  reanalysis_air_temp_k  \\\n",
       "city year weekofyear                                                \n",
       "sj   1990 18                         12.42             297.572857   \n",
       "          19                         22.82             298.211429   \n",
       "          20                         34.54             298.781429   \n",
       "          21                         15.36             298.987143   \n",
       "          22                          7.52             299.518571   \n",
       "...                                    ...                    ...   \n",
       "iq   2010 21                         55.30             299.334286   \n",
       "          22                         86.47             298.330000   \n",
       "          23                         58.94             296.598571   \n",
       "          24                         59.67             296.345714   \n",
       "          25                         63.22             298.097143   \n",
       "\n",
       "                      reanalysis_avg_temp_k  reanalysis_dew_point_temp_k  \\\n",
       "city year weekofyear                                                       \n",
       "sj   1990 18                     297.742857                   292.414286   \n",
       "          19                     298.442857                   293.951429   \n",
       "          20                     298.878571                   295.434286   \n",
       "          21                     299.228571                   295.310000   \n",
       "          22                     299.664286                   295.821429   \n",
       "...                                     ...                          ...   \n",
       "iq   2010 21                     300.771429                   296.825714   \n",
       "          22                     299.392857                   296.452857   \n",
       "          23                     297.592857                   295.501429   \n",
       "          24                     297.521429                   295.324286   \n",
       "          25                     299.835714                   295.807143   \n",
       "\n",
       "                      reanalysis_max_air_temp_k  ...  \\\n",
       "city year weekofyear                             ...   \n",
       "sj   1990 18                              299.8  ...   \n",
       "          19                              300.9  ...   \n",
       "          20                              300.5  ...   \n",
       "          21                              301.4  ...   \n",
       "          22                              301.9  ...   \n",
       "...                                         ...  ...   \n",
       "iq   2010 21                              309.7  ...   \n",
       "          22                              308.5  ...   \n",
       "          23                              305.5  ...   \n",
       "          24                              306.1  ...   \n",
       "          25                              307.8  ...   \n",
       "\n",
       "                      reanalysis_precip_amt_kg_per_m2  \\\n",
       "city year weekofyear                                    \n",
       "sj   1990 18                                    32.00   \n",
       "          19                                    17.94   \n",
       "          20                                    26.10   \n",
       "          21                                    13.90   \n",
       "          22                                    12.20   \n",
       "...                                               ...   \n",
       "iq   2010 21                                    45.00   \n",
       "          22                                   207.10   \n",
       "          23                                    50.60   \n",
       "          24                                    62.33   \n",
       "          25                                    36.90   \n",
       "\n",
       "                      reanalysis_relative_humidity_percent  \\\n",
       "city year weekofyear                                         \n",
       "sj   1990 18                                     73.365714   \n",
       "          19                                     77.368571   \n",
       "          20                                     82.052857   \n",
       "          21                                     80.337143   \n",
       "          22                                     80.460000   \n",
       "...                                                    ...   \n",
       "iq   2010 21                                     88.765714   \n",
       "          22                                     91.600000   \n",
       "          23                                     94.280000   \n",
       "          24                                     94.660000   \n",
       "          25                                     89.082857   \n",
       "\n",
       "                      reanalysis_sat_precip_amt_mm  \\\n",
       "city year weekofyear                                 \n",
       "sj   1990 18                                 12.42   \n",
       "          19                                 22.82   \n",
       "          20                                 34.54   \n",
       "          21                                 15.36   \n",
       "          22                                  7.52   \n",
       "...                                            ...   \n",
       "iq   2010 21                                 55.30   \n",
       "          22                                 86.47   \n",
       "          23                                 58.94   \n",
       "          24                                 59.67   \n",
       "          25                                 63.22   \n",
       "\n",
       "                      reanalysis_specific_humidity_g_per_kg  \\\n",
       "city year weekofyear                                          \n",
       "sj   1990 18                                      14.012857   \n",
       "          19                                      15.372857   \n",
       "          20                                      16.848571   \n",
       "          21                                      16.672857   \n",
       "          22                                      17.210000   \n",
       "...                                                     ...   \n",
       "iq   2010 21                                      18.485714   \n",
       "          22                                      18.070000   \n",
       "          23                                      17.008571   \n",
       "          24                                      16.815714   \n",
       "          25                                      17.355714   \n",
       "\n",
       "                      reanalysis_tdtr_k  station_avg_temp_c  \\\n",
       "city year weekofyear                                          \n",
       "sj   1990 18                   2.628571           25.442857   \n",
       "          19                   2.371429           26.714286   \n",
       "          20                   2.300000           26.714286   \n",
       "          21                   2.428571           27.471429   \n",
       "          22                   3.014286           28.942857   \n",
       "...                                 ...                 ...   \n",
       "iq   2010 21                   9.800000           28.633333   \n",
       "          22                   7.471429           27.433333   \n",
       "          23                   7.500000           24.400000   \n",
       "          24                   7.871429           25.433333   \n",
       "          25                  11.014286           27.475000   \n",
       "\n",
       "                      station_diur_temp_rng_c  station_max_temp_c  \\\n",
       "city year weekofyear                                                \n",
       "sj   1990 18                         6.900000                29.4   \n",
       "          19                         6.371429                31.7   \n",
       "          20                         6.485714                32.2   \n",
       "          21                         6.771429                33.3   \n",
       "          22                         9.371429                35.0   \n",
       "...                                       ...                 ...   \n",
       "iq   2010 21                        11.933333                35.4   \n",
       "          22                        10.500000                34.7   \n",
       "          23                         6.900000                32.2   \n",
       "          24                         8.733333                31.2   \n",
       "          25                         9.900000                33.7   \n",
       "\n",
       "                      station_min_temp_c  station_precip_mm  \n",
       "city year weekofyear                                         \n",
       "sj   1990 18                        20.0               16.0  \n",
       "          19                        22.2                8.6  \n",
       "          20                        22.8               41.4  \n",
       "          21                        23.3                4.0  \n",
       "          22                        23.9                5.8  \n",
       "...                                  ...                ...  \n",
       "iq   2010 21                        22.4               27.0  \n",
       "          22                        21.7               36.6  \n",
       "          23                        19.2                7.4  \n",
       "          24                        21.0               16.0  \n",
       "          25                        22.2               20.4  \n",
       "\n",
       "[1456 rows x 21 columns]"
      ]
     },
     "execution_count": 4,
     "metadata": {},
     "output_type": "execute_result"
    }
   ],
   "source": [
    "train_features"
   ]
  },
  {
   "cell_type": "code",
   "execution_count": 5,
   "metadata": {},
   "outputs": [
    {
     "data": {
      "text/html": [
       "<div>\n",
       "<style scoped>\n",
       "    .dataframe tbody tr th:only-of-type {\n",
       "        vertical-align: middle;\n",
       "    }\n",
       "\n",
       "    .dataframe tbody tr th {\n",
       "        vertical-align: top;\n",
       "    }\n",
       "\n",
       "    .dataframe thead th {\n",
       "        text-align: right;\n",
       "    }\n",
       "</style>\n",
       "<table border=\"1\" class=\"dataframe\">\n",
       "  <thead>\n",
       "    <tr style=\"text-align: right;\">\n",
       "      <th></th>\n",
       "      <th></th>\n",
       "      <th></th>\n",
       "      <th>total_cases</th>\n",
       "    </tr>\n",
       "    <tr>\n",
       "      <th>city</th>\n",
       "      <th>year</th>\n",
       "      <th>weekofyear</th>\n",
       "      <th></th>\n",
       "    </tr>\n",
       "  </thead>\n",
       "  <tbody>\n",
       "    <tr>\n",
       "      <th rowspan=\"5\" valign=\"top\">sj</th>\n",
       "      <th rowspan=\"5\" valign=\"top\">1990</th>\n",
       "      <th>18</th>\n",
       "      <td>4</td>\n",
       "    </tr>\n",
       "    <tr>\n",
       "      <th>19</th>\n",
       "      <td>5</td>\n",
       "    </tr>\n",
       "    <tr>\n",
       "      <th>20</th>\n",
       "      <td>4</td>\n",
       "    </tr>\n",
       "    <tr>\n",
       "      <th>21</th>\n",
       "      <td>3</td>\n",
       "    </tr>\n",
       "    <tr>\n",
       "      <th>22</th>\n",
       "      <td>6</td>\n",
       "    </tr>\n",
       "    <tr>\n",
       "      <th>...</th>\n",
       "      <th>...</th>\n",
       "      <th>...</th>\n",
       "      <td>...</td>\n",
       "    </tr>\n",
       "    <tr>\n",
       "      <th rowspan=\"5\" valign=\"top\">iq</th>\n",
       "      <th rowspan=\"5\" valign=\"top\">2010</th>\n",
       "      <th>21</th>\n",
       "      <td>5</td>\n",
       "    </tr>\n",
       "    <tr>\n",
       "      <th>22</th>\n",
       "      <td>8</td>\n",
       "    </tr>\n",
       "    <tr>\n",
       "      <th>23</th>\n",
       "      <td>1</td>\n",
       "    </tr>\n",
       "    <tr>\n",
       "      <th>24</th>\n",
       "      <td>1</td>\n",
       "    </tr>\n",
       "    <tr>\n",
       "      <th>25</th>\n",
       "      <td>4</td>\n",
       "    </tr>\n",
       "  </tbody>\n",
       "</table>\n",
       "<p>1456 rows × 1 columns</p>\n",
       "</div>"
      ],
      "text/plain": [
       "                      total_cases\n",
       "city year weekofyear             \n",
       "sj   1990 18                    4\n",
       "          19                    5\n",
       "          20                    4\n",
       "          21                    3\n",
       "          22                    6\n",
       "...                           ...\n",
       "iq   2010 21                    5\n",
       "          22                    8\n",
       "          23                    1\n",
       "          24                    1\n",
       "          25                    4\n",
       "\n",
       "[1456 rows x 1 columns]"
      ]
     },
     "execution_count": 5,
     "metadata": {},
     "output_type": "execute_result"
    }
   ],
   "source": [
    "train_labels"
   ]
  },
  {
   "cell_type": "markdown",
   "metadata": {},
   "source": [
    "Since we suspect that the dengue fever patterns will be different for each city, let's separate the data using the `city` index."
   ]
  },
  {
   "cell_type": "code",
   "execution_count": 6,
   "metadata": {},
   "outputs": [],
   "source": [
    "# Separate data for San Juan\n",
    "sj_train_features = train_features.loc['sj']\n",
    "sj_train_labels = train_labels.loc['sj']\n",
    "\n",
    "# Separate data for Iquitos\n",
    "iq_train_features = train_features.loc['iq']\n",
    "iq_train_labels = train_labels.loc['iq']"
   ]
  },
  {
   "cell_type": "markdown",
   "metadata": {},
   "source": [
    "### Data Exploration\n",
    "\n",
    "Now that we've loaded up our data, we can start to explore what it looks like."
   ]
  },
  {
   "cell_type": "code",
   "execution_count": 7,
   "metadata": {
    "collapsed": false,
    "jupyter": {
     "outputs_hidden": false
    }
   },
   "outputs": [
    {
     "name": "stdout",
     "output_type": "stream",
     "text": [
      "San Juan\n",
      "features:  (936, 21)\n",
      "labels  :  (936, 1)\n",
      "\n",
      "Iquitos\n",
      "features:  (520, 21)\n",
      "labels  :  (520, 1)\n"
     ]
    }
   ],
   "source": [
    "print('San Juan')\n",
    "print('features: ', sj_train_features.shape)\n",
    "print('labels  : ', sj_train_labels.shape)\n",
    "print()\n",
    "print('Iquitos')\n",
    "print('features: ', iq_train_features.shape)\n",
    "print('labels  : ', iq_train_labels.shape)"
   ]
  },
  {
   "cell_type": "markdown",
   "metadata": {},
   "source": [
    "The [problem description](https://www.drivendata.org/competitions/44/page/82/) gives a good overview of the available variables, but we'll look at the head and types of the data here as well:"
   ]
  },
  {
   "cell_type": "code",
   "execution_count": 8,
   "metadata": {
    "collapsed": false,
    "jupyter": {
     "outputs_hidden": false
    }
   },
   "outputs": [
    {
     "data": {
      "text/html": [
       "<div>\n",
       "<style scoped>\n",
       "    .dataframe tbody tr th:only-of-type {\n",
       "        vertical-align: middle;\n",
       "    }\n",
       "\n",
       "    .dataframe tbody tr th {\n",
       "        vertical-align: top;\n",
       "    }\n",
       "\n",
       "    .dataframe thead th {\n",
       "        text-align: right;\n",
       "    }\n",
       "</style>\n",
       "<table border=\"1\" class=\"dataframe\">\n",
       "  <thead>\n",
       "    <tr style=\"text-align: right;\">\n",
       "      <th></th>\n",
       "      <th></th>\n",
       "      <th>week_start_date</th>\n",
       "      <th>ndvi_ne</th>\n",
       "      <th>ndvi_nw</th>\n",
       "      <th>ndvi_se</th>\n",
       "      <th>ndvi_sw</th>\n",
       "      <th>precipitation_amt_mm</th>\n",
       "      <th>reanalysis_air_temp_k</th>\n",
       "      <th>reanalysis_avg_temp_k</th>\n",
       "      <th>reanalysis_dew_point_temp_k</th>\n",
       "      <th>reanalysis_max_air_temp_k</th>\n",
       "      <th>...</th>\n",
       "      <th>reanalysis_precip_amt_kg_per_m2</th>\n",
       "      <th>reanalysis_relative_humidity_percent</th>\n",
       "      <th>reanalysis_sat_precip_amt_mm</th>\n",
       "      <th>reanalysis_specific_humidity_g_per_kg</th>\n",
       "      <th>reanalysis_tdtr_k</th>\n",
       "      <th>station_avg_temp_c</th>\n",
       "      <th>station_diur_temp_rng_c</th>\n",
       "      <th>station_max_temp_c</th>\n",
       "      <th>station_min_temp_c</th>\n",
       "      <th>station_precip_mm</th>\n",
       "    </tr>\n",
       "    <tr>\n",
       "      <th>year</th>\n",
       "      <th>weekofyear</th>\n",
       "      <th></th>\n",
       "      <th></th>\n",
       "      <th></th>\n",
       "      <th></th>\n",
       "      <th></th>\n",
       "      <th></th>\n",
       "      <th></th>\n",
       "      <th></th>\n",
       "      <th></th>\n",
       "      <th></th>\n",
       "      <th></th>\n",
       "      <th></th>\n",
       "      <th></th>\n",
       "      <th></th>\n",
       "      <th></th>\n",
       "      <th></th>\n",
       "      <th></th>\n",
       "      <th></th>\n",
       "      <th></th>\n",
       "      <th></th>\n",
       "      <th></th>\n",
       "    </tr>\n",
       "  </thead>\n",
       "  <tbody>\n",
       "    <tr>\n",
       "      <th rowspan=\"5\" valign=\"top\">1990</th>\n",
       "      <th>18</th>\n",
       "      <td>1990-04-30</td>\n",
       "      <td>0.122600</td>\n",
       "      <td>0.103725</td>\n",
       "      <td>0.198483</td>\n",
       "      <td>0.177617</td>\n",
       "      <td>12.42</td>\n",
       "      <td>297.572857</td>\n",
       "      <td>297.742857</td>\n",
       "      <td>292.414286</td>\n",
       "      <td>299.8</td>\n",
       "      <td>...</td>\n",
       "      <td>32.00</td>\n",
       "      <td>73.365714</td>\n",
       "      <td>12.42</td>\n",
       "      <td>14.012857</td>\n",
       "      <td>2.628571</td>\n",
       "      <td>25.442857</td>\n",
       "      <td>6.900000</td>\n",
       "      <td>29.4</td>\n",
       "      <td>20.0</td>\n",
       "      <td>16.0</td>\n",
       "    </tr>\n",
       "    <tr>\n",
       "      <th>19</th>\n",
       "      <td>1990-05-07</td>\n",
       "      <td>0.169900</td>\n",
       "      <td>0.142175</td>\n",
       "      <td>0.162357</td>\n",
       "      <td>0.155486</td>\n",
       "      <td>22.82</td>\n",
       "      <td>298.211429</td>\n",
       "      <td>298.442857</td>\n",
       "      <td>293.951429</td>\n",
       "      <td>300.9</td>\n",
       "      <td>...</td>\n",
       "      <td>17.94</td>\n",
       "      <td>77.368571</td>\n",
       "      <td>22.82</td>\n",
       "      <td>15.372857</td>\n",
       "      <td>2.371429</td>\n",
       "      <td>26.714286</td>\n",
       "      <td>6.371429</td>\n",
       "      <td>31.7</td>\n",
       "      <td>22.2</td>\n",
       "      <td>8.6</td>\n",
       "    </tr>\n",
       "    <tr>\n",
       "      <th>20</th>\n",
       "      <td>1990-05-14</td>\n",
       "      <td>0.032250</td>\n",
       "      <td>0.172967</td>\n",
       "      <td>0.157200</td>\n",
       "      <td>0.170843</td>\n",
       "      <td>34.54</td>\n",
       "      <td>298.781429</td>\n",
       "      <td>298.878571</td>\n",
       "      <td>295.434286</td>\n",
       "      <td>300.5</td>\n",
       "      <td>...</td>\n",
       "      <td>26.10</td>\n",
       "      <td>82.052857</td>\n",
       "      <td>34.54</td>\n",
       "      <td>16.848571</td>\n",
       "      <td>2.300000</td>\n",
       "      <td>26.714286</td>\n",
       "      <td>6.485714</td>\n",
       "      <td>32.2</td>\n",
       "      <td>22.8</td>\n",
       "      <td>41.4</td>\n",
       "    </tr>\n",
       "    <tr>\n",
       "      <th>21</th>\n",
       "      <td>1990-05-21</td>\n",
       "      <td>0.128633</td>\n",
       "      <td>0.245067</td>\n",
       "      <td>0.227557</td>\n",
       "      <td>0.235886</td>\n",
       "      <td>15.36</td>\n",
       "      <td>298.987143</td>\n",
       "      <td>299.228571</td>\n",
       "      <td>295.310000</td>\n",
       "      <td>301.4</td>\n",
       "      <td>...</td>\n",
       "      <td>13.90</td>\n",
       "      <td>80.337143</td>\n",
       "      <td>15.36</td>\n",
       "      <td>16.672857</td>\n",
       "      <td>2.428571</td>\n",
       "      <td>27.471429</td>\n",
       "      <td>6.771429</td>\n",
       "      <td>33.3</td>\n",
       "      <td>23.3</td>\n",
       "      <td>4.0</td>\n",
       "    </tr>\n",
       "    <tr>\n",
       "      <th>22</th>\n",
       "      <td>1990-05-28</td>\n",
       "      <td>0.196200</td>\n",
       "      <td>0.262200</td>\n",
       "      <td>0.251200</td>\n",
       "      <td>0.247340</td>\n",
       "      <td>7.52</td>\n",
       "      <td>299.518571</td>\n",
       "      <td>299.664286</td>\n",
       "      <td>295.821429</td>\n",
       "      <td>301.9</td>\n",
       "      <td>...</td>\n",
       "      <td>12.20</td>\n",
       "      <td>80.460000</td>\n",
       "      <td>7.52</td>\n",
       "      <td>17.210000</td>\n",
       "      <td>3.014286</td>\n",
       "      <td>28.942857</td>\n",
       "      <td>9.371429</td>\n",
       "      <td>35.0</td>\n",
       "      <td>23.9</td>\n",
       "      <td>5.8</td>\n",
       "    </tr>\n",
       "  </tbody>\n",
       "</table>\n",
       "<p>5 rows × 21 columns</p>\n",
       "</div>"
      ],
      "text/plain": [
       "                week_start_date   ndvi_ne   ndvi_nw   ndvi_se   ndvi_sw  \\\n",
       "year weekofyear                                                           \n",
       "1990 18              1990-04-30  0.122600  0.103725  0.198483  0.177617   \n",
       "     19              1990-05-07  0.169900  0.142175  0.162357  0.155486   \n",
       "     20              1990-05-14  0.032250  0.172967  0.157200  0.170843   \n",
       "     21              1990-05-21  0.128633  0.245067  0.227557  0.235886   \n",
       "     22              1990-05-28  0.196200  0.262200  0.251200  0.247340   \n",
       "\n",
       "                 precipitation_amt_mm  reanalysis_air_temp_k  \\\n",
       "year weekofyear                                                \n",
       "1990 18                         12.42             297.572857   \n",
       "     19                         22.82             298.211429   \n",
       "     20                         34.54             298.781429   \n",
       "     21                         15.36             298.987143   \n",
       "     22                          7.52             299.518571   \n",
       "\n",
       "                 reanalysis_avg_temp_k  reanalysis_dew_point_temp_k  \\\n",
       "year weekofyear                                                       \n",
       "1990 18                     297.742857                   292.414286   \n",
       "     19                     298.442857                   293.951429   \n",
       "     20                     298.878571                   295.434286   \n",
       "     21                     299.228571                   295.310000   \n",
       "     22                     299.664286                   295.821429   \n",
       "\n",
       "                 reanalysis_max_air_temp_k  ...  \\\n",
       "year weekofyear                             ...   \n",
       "1990 18                              299.8  ...   \n",
       "     19                              300.9  ...   \n",
       "     20                              300.5  ...   \n",
       "     21                              301.4  ...   \n",
       "     22                              301.9  ...   \n",
       "\n",
       "                 reanalysis_precip_amt_kg_per_m2  \\\n",
       "year weekofyear                                    \n",
       "1990 18                                    32.00   \n",
       "     19                                    17.94   \n",
       "     20                                    26.10   \n",
       "     21                                    13.90   \n",
       "     22                                    12.20   \n",
       "\n",
       "                 reanalysis_relative_humidity_percent  \\\n",
       "year weekofyear                                         \n",
       "1990 18                                     73.365714   \n",
       "     19                                     77.368571   \n",
       "     20                                     82.052857   \n",
       "     21                                     80.337143   \n",
       "     22                                     80.460000   \n",
       "\n",
       "                 reanalysis_sat_precip_amt_mm  \\\n",
       "year weekofyear                                 \n",
       "1990 18                                 12.42   \n",
       "     19                                 22.82   \n",
       "     20                                 34.54   \n",
       "     21                                 15.36   \n",
       "     22                                  7.52   \n",
       "\n",
       "                 reanalysis_specific_humidity_g_per_kg  reanalysis_tdtr_k  \\\n",
       "year weekofyear                                                             \n",
       "1990 18                                      14.012857           2.628571   \n",
       "     19                                      15.372857           2.371429   \n",
       "     20                                      16.848571           2.300000   \n",
       "     21                                      16.672857           2.428571   \n",
       "     22                                      17.210000           3.014286   \n",
       "\n",
       "                 station_avg_temp_c  station_diur_temp_rng_c  \\\n",
       "year weekofyear                                                \n",
       "1990 18                   25.442857                 6.900000   \n",
       "     19                   26.714286                 6.371429   \n",
       "     20                   26.714286                 6.485714   \n",
       "     21                   27.471429                 6.771429   \n",
       "     22                   28.942857                 9.371429   \n",
       "\n",
       "                 station_max_temp_c  station_min_temp_c  station_precip_mm  \n",
       "year weekofyear                                                             \n",
       "1990 18                        29.4                20.0               16.0  \n",
       "     19                        31.7                22.2                8.6  \n",
       "     20                        32.2                22.8               41.4  \n",
       "     21                        33.3                23.3                4.0  \n",
       "     22                        35.0                23.9                5.8  \n",
       "\n",
       "[5 rows x 21 columns]"
      ]
     },
     "execution_count": 8,
     "metadata": {},
     "output_type": "execute_result"
    }
   ],
   "source": [
    "sj_train_features.head()"
   ]
  },
  {
   "cell_type": "code",
   "execution_count": 9,
   "metadata": {},
   "outputs": [
    {
     "data": {
      "text/plain": [
       "week_start_date                           object\n",
       "ndvi_ne                                  float64\n",
       "ndvi_nw                                  float64\n",
       "ndvi_se                                  float64\n",
       "ndvi_sw                                  float64\n",
       "precipitation_amt_mm                     float64\n",
       "reanalysis_air_temp_k                    float64\n",
       "reanalysis_avg_temp_k                    float64\n",
       "reanalysis_dew_point_temp_k              float64\n",
       "reanalysis_max_air_temp_k                float64\n",
       "reanalysis_min_air_temp_k                float64\n",
       "reanalysis_precip_amt_kg_per_m2          float64\n",
       "reanalysis_relative_humidity_percent     float64\n",
       "reanalysis_sat_precip_amt_mm             float64\n",
       "reanalysis_specific_humidity_g_per_kg    float64\n",
       "reanalysis_tdtr_k                        float64\n",
       "station_avg_temp_c                       float64\n",
       "station_diur_temp_rng_c                  float64\n",
       "station_max_temp_c                       float64\n",
       "station_min_temp_c                       float64\n",
       "station_precip_mm                        float64\n",
       "dtype: object"
      ]
     },
     "execution_count": 9,
     "metadata": {},
     "output_type": "execute_result"
    }
   ],
   "source": [
    "sj_train_features.dtypes"
   ]
  },
  {
   "cell_type": "markdown",
   "metadata": {},
   "source": [
    "There are _a lot_ of climate variables here, but the first thing that we'll note is that the `week_start_date` is included in the feature set. This makes it easier for competitors to create time based features, but for this first-pass model, we'll drop that column since we shouldn't use it as a feature in our model."
   ]
  },
  {
   "cell_type": "code",
   "execution_count": 10,
   "metadata": {
    "collapsed": false,
    "jupyter": {
     "outputs_hidden": false
    }
   },
   "outputs": [],
   "source": [
    "# Remove `week_start_date` string.\n",
    "sj_train_features.drop('week_start_date', axis=1, inplace=True)\n",
    "iq_train_features.drop('week_start_date', axis=1, inplace=True)"
   ]
  },
  {
   "cell_type": "markdown",
   "metadata": {},
   "source": [
    "Next, let's check to see if we are missing any values in this dataset:"
   ]
  },
  {
   "cell_type": "code",
   "execution_count": 11,
   "metadata": {
    "collapsed": false,
    "jupyter": {
     "outputs_hidden": false
    }
   },
   "outputs": [
    {
     "data": {
      "text/plain": [
       "ndvi_ne                                  True\n",
       "ndvi_nw                                  True\n",
       "ndvi_se                                  True\n",
       "ndvi_sw                                  True\n",
       "precipitation_amt_mm                     True\n",
       "reanalysis_air_temp_k                    True\n",
       "reanalysis_avg_temp_k                    True\n",
       "reanalysis_dew_point_temp_k              True\n",
       "reanalysis_max_air_temp_k                True\n",
       "reanalysis_min_air_temp_k                True\n",
       "reanalysis_precip_amt_kg_per_m2          True\n",
       "reanalysis_relative_humidity_percent     True\n",
       "reanalysis_sat_precip_amt_mm             True\n",
       "reanalysis_specific_humidity_g_per_kg    True\n",
       "reanalysis_tdtr_k                        True\n",
       "station_avg_temp_c                       True\n",
       "station_diur_temp_rng_c                  True\n",
       "station_max_temp_c                       True\n",
       "station_min_temp_c                       True\n",
       "station_precip_mm                        True\n",
       "dtype: bool"
      ]
     },
     "execution_count": 11,
     "metadata": {},
     "output_type": "execute_result"
    }
   ],
   "source": [
    "# Null check\n",
    "pd.isnull(sj_train_features).any()"
   ]
  },
  {
   "cell_type": "markdown",
   "metadata": {},
   "source": [
    "Let's plot one of our features to get a sense of what it looks like."
   ]
  },
  {
   "cell_type": "code",
   "execution_count": 12,
   "metadata": {
    "collapsed": false,
    "jupyter": {
     "outputs_hidden": false
    }
   },
   "outputs": [
    {
     "data": {
      "text/plain": [
       "Text(0.5, 0, 'Time')"
      ]
     },
     "execution_count": 12,
     "metadata": {},
     "output_type": "execute_result"
    },
    {
     "data": {
      "image/png": "[encoded data removed]",
      "text/plain": [
       "<Figure size 432x288 with 1 Axes>"
      ]
     },
     "metadata": {
      "needs_background": "light"
     },
     "output_type": "display_data"
    }
   ],
   "source": [
    "(sj_train_features\n",
    "     .ndvi_ne\n",
    "     .plot\n",
    "     .line(lw=0.8))\n",
    "\n",
    "plt.title('Vegetation Index over Time')\n",
    "plt.xlabel('Time')"
   ]
  },
  {
   "cell_type": "markdown",
   "metadata": {},
   "source": [
    "Since these are time-series, we can see the gaps where there are `NaN`s by plotting the data. Since we can't build a model without those values, we'll take a simple approach and just fill those values with the most recent value that we saw up to that point. This is probably a good part of the problem to improve your score by getting smarter."
   ]
  },
  {
   "cell_type": "code",
   "execution_count": 13,
   "metadata": {
    "collapsed": false,
    "jupyter": {
     "outputs_hidden": false
    }
   },
   "outputs": [
    {
     "data": {
      "text/plain": [
       "ndvi_ne                                  False\n",
       "ndvi_nw                                  False\n",
       "ndvi_se                                  False\n",
       "ndvi_sw                                  False\n",
       "precipitation_amt_mm                     False\n",
       "reanalysis_air_temp_k                    False\n",
       "reanalysis_avg_temp_k                    False\n",
       "reanalysis_dew_point_temp_k              False\n",
       "reanalysis_max_air_temp_k                False\n",
       "reanalysis_min_air_temp_k                False\n",
       "reanalysis_precip_amt_kg_per_m2          False\n",
       "reanalysis_relative_humidity_percent     False\n",
       "reanalysis_sat_precip_amt_mm             False\n",
       "reanalysis_specific_humidity_g_per_kg    False\n",
       "reanalysis_tdtr_k                        False\n",
       "station_avg_temp_c                       False\n",
       "station_diur_temp_rng_c                  False\n",
       "station_max_temp_c                       False\n",
       "station_min_temp_c                       False\n",
       "station_precip_mm                        False\n",
       "dtype: bool"
      ]
     },
     "execution_count": 13,
     "metadata": {},
     "output_type": "execute_result"
    }
   ],
   "source": [
    "# impute data using the forward fill method (propagate last valid observation forward to next valid)\n",
    "sj_train_features.fillna(method='ffill', inplace=True)\n",
    "iq_train_features.fillna(method='ffill', inplace=True)\n",
    "\n",
    "pd.isnull(sj_train_features).any()"
   ]
  },
  {
   "cell_type": "markdown",
   "metadata": {},
   "source": [
    "## Distribution of labels\n",
    "\n",
    "Our target variable, `total_cases` is a non-negative integer, which means we're looking to make some **count predictions**. Let's see how our labels are distributed!"
   ]
  },
  {
   "cell_type": "code",
   "execution_count": 14,
   "metadata": {
    "collapsed": false,
    "jupyter": {
     "outputs_hidden": false
    }
   },
   "outputs": [
    {
     "data": {
      "text/plain": [
       "array([[<matplotlib.axes._subplots.AxesSubplot object at 0x7f97cba096a0>]],\n",
       "      dtype=object)"
      ]
     },
     "execution_count": 14,
     "metadata": {},
     "output_type": "execute_result"
    },
    {
     "data": {
      "image/png": "[encoded data removed]",
      "text/plain": [
       "<Figure size 432x288 with 1 Axes>"
      ]
     },
     "metadata": {
      "needs_background": "light"
     },
     "output_type": "display_data"
    }
   ],
   "source": [
    "sj_train_labels.hist()"
   ]
  },
  {
   "cell_type": "code",
   "execution_count": 15,
   "metadata": {
    "collapsed": false,
    "jupyter": {
     "outputs_hidden": false
    }
   },
   "outputs": [
    {
     "data": {
      "text/plain": [
       "array([[<matplotlib.axes._subplots.AxesSubplot object at 0x7f97c6014190>]],\n",
       "      dtype=object)"
      ]
     },
     "execution_count": 15,
     "metadata": {},
     "output_type": "execute_result"
    },
    {
     "data": {
      "image/png": "[encoded data removed]",
      "text/plain": [
       "<Figure size 432x288 with 1 Axes>"
      ]
     },
     "metadata": {
      "needs_background": "light"
     },
     "output_type": "display_data"
    }
   ],
   "source": [
    "iq_train_labels.hist()"
   ]
  },
  {
   "cell_type": "markdown",
   "metadata": {},
   "source": [
    "These sorts of right-skewed distributions are pretty typical for count data."
   ]
  },
  {
   "cell_type": "markdown",
   "metadata": {},
   "source": [
    "## Which inputs strongly correlate with `total_cases`?\n",
    "\n",
    "Our next step in this process will be to select a subset of features to include in our regression. Our primary purpose here is to get a better understanding of the problem domain rather than eke out the last possible bit of predictive accuracy. The first thing we will do is to add the `total_cases` to our dataframe, and then look at the correlation of that variable with the climate variables."
   ]
  },
  {
   "cell_type": "code",
   "execution_count": 16,
   "metadata": {
    "collapsed": false,
    "jupyter": {
     "outputs_hidden": false
    }
   },
   "outputs": [],
   "source": [
    "sj_train_features['total_cases'] = sj_train_labels.total_cases\n",
    "iq_train_features['total_cases'] = iq_train_labels.total_cases"
   ]
  },
  {
   "cell_type": "markdown",
   "metadata": {},
   "source": [
    "Compute the data correlation matrix."
   ]
  },
  {
   "cell_type": "code",
   "execution_count": 17,
   "metadata": {
    "collapsed": false,
    "jupyter": {
     "outputs_hidden": false
    }
   },
   "outputs": [],
   "source": [
    "# compute the correlations\n",
    "sj_correlations = sj_train_features.corr()\n",
    "iq_correlations = iq_train_features.corr()"
   ]
  },
  {
   "cell_type": "code",
   "execution_count": 18,
   "metadata": {
    "collapsed": false,
    "jupyter": {
     "outputs_hidden": false
    }
   },
   "outputs": [
    {
     "data": {
      "text/plain": [
       "Text(0.5, 1.0, 'San Juan Variable Correlations')"
      ]
     },
     "execution_count": 18,
     "metadata": {},
     "output_type": "execute_result"
    },
    {
     "data": {
      "image/png": "[encoded data removed]",
      "text/plain": [
       "<Figure size 432x288 with 2 Axes>"
      ]
     },
     "metadata": {
      "needs_background": "light"
     },
     "output_type": "display_data"
    }
   ],
   "source": [
    "# plot san juan\n",
    "sj_corr_heat = sns.heatmap(sj_correlations)\n",
    "plt.title('San Juan Variable Correlations')"
   ]
  },
  {
   "cell_type": "code",
   "execution_count": 19,
   "metadata": {
    "collapsed": false,
    "jupyter": {
     "outputs_hidden": false
    }
   },
   "outputs": [
    {
     "data": {
      "text/plain": [
       "Text(0.5, 1.0, 'Iquitos Variable Correlations')"
      ]
     },
     "execution_count": 19,
     "metadata": {},
     "output_type": "execute_result"
    },
    {
     "data": {
      "image/png": "[encoded data removed]",
      "text/plain": [
       "<Figure size 432x288 with 2 Axes>"
      ]
     },
     "metadata": {
      "needs_background": "light"
     },
     "output_type": "display_data"
    }
   ],
   "source": [
    "# plot iquitos\n",
    "iq_corr_heat = sns.heatmap(iq_correlations)\n",
    "plt.title('Iquitos Variable Correlations')"
   ]
  },
  {
   "cell_type": "markdown",
   "metadata": {},
   "source": [
    "### Many of the temperature data are strongly correlated, which is expected. But the `total_cases` variable doesn't have many obvious strong correlations.\n",
    "\n",
    "Interestingly, `total_cases` seems to only have weak correlations with other variables. Many of the climate variables are much more strongly correlated. Interestingly, the vegetation index also only has weak correlation with other variables. These correlations may give us some hints as to how to improve our model that we'll talk about later in this post. For now, let's take a `sorted` look at `total_cases` correlations."
   ]
  },
  {
   "cell_type": "code",
   "execution_count": 20,
   "metadata": {
    "collapsed": false,
    "jupyter": {
     "outputs_hidden": false
    }
   },
   "outputs": [
    {
     "data": {
      "text/plain": [
       "<matplotlib.axes._subplots.AxesSubplot at 0x7f97cb008580>"
      ]
     },
     "execution_count": 20,
     "metadata": {},
     "output_type": "execute_result"
    },
    {
     "data": {
      "image/png": "[encoded data removed]",
      "text/plain": [
       "<Figure size 432x288 with 1 Axes>"
      ]
     },
     "metadata": {
      "needs_background": "light"
     },
     "output_type": "display_data"
    }
   ],
   "source": [
    "# San Juan\n",
    "(sj_correlations\n",
    "     .total_cases\n",
    "     .drop('total_cases') # don't compare with myself\n",
    "     .sort_values(ascending=False)\n",
    "     .plot\n",
    "     .barh())"
   ]
  },
  {
   "cell_type": "code",
   "execution_count": 21,
   "metadata": {
    "collapsed": false,
    "jupyter": {
     "outputs_hidden": false
    }
   },
   "outputs": [
    {
     "data": {
      "text/plain": [
       "<matplotlib.axes._subplots.AxesSubplot at 0x7f97cb1e6610>"
      ]
     },
     "execution_count": 21,
     "metadata": {},
     "output_type": "execute_result"
    },
    {
     "data": {
      "image/png": "[encoded data removed]",
      "text/plain": [
       "<Figure size 432x288 with 1 Axes>"
      ]
     },
     "metadata": {
      "needs_background": "light"
     },
     "output_type": "display_data"
    }
   ],
   "source": [
    "# Iquitos\n",
    "(iq_correlations\n",
    "     .total_cases\n",
    "     .drop('total_cases') # don't compare with myself\n",
    "     .sort_values(ascending=False)\n",
    "     .plot\n",
    "     .barh())"
   ]
  },
  {
   "cell_type": "markdown",
   "metadata": {},
   "source": [
    "### A few observations\n",
    "\n",
    "#### The wetter the better\n",
    "* The correlation strengths differ for each city, but it looks like `reanalysis_specific_humidity_g_per_kg` and `reanalysis_dew_point_temp_k` are the most strongly correlated with `total_cases`. This makes sense: we know mosquitos thrive in _wet_ climates, the wetter the better!\n",
    "\n",
    "#### Hot and heavy\n",
    "* As we all know, \"cold and humid\" is not a thing. So it's not surprising that as minimum temperatures, maximum temperatures, and average temperatures rise, the `total_cases` of dengue fever tend to rise as well.\n",
    "\n",
    "#### Sometimes it rains, so what\n",
    "* Interestingly, the `precipitation` measurements bear little to no correlation to `total_cases`, despite strong correlations to the `humidity` measurements, as evident by the heatmaps above.\n",
    "\n",
    "### This is just a first pass\n",
    "\n",
    "Precisely _none_ of these correlations are very strong. Of course, that doesn't mean that some **feature engineering wizardry** can't put us in a better place **(`standing_water` estimate, anyone?)**. Also, it's always useful to keep in mind that **life isn't linear**, but out-of-the-box correlation measurement is – or at least, it measures linear dependence.\n",
    "\n",
    "Nevertheless, for this tutorial we'll focus on the linear __wetness__ trend we see above, and reduce our inputs to...\n",
    "\n",
    "#### a few good variables:\n",
    "\n",
    "* `reanalysis_specific_humidity_g_per_kg`\n",
    "* `reanalysis_dew_point_temp_k`\n",
    "* `station_avg_temp_c`\n",
    "* `station_min_temp_c`"
   ]
  },
  {
   "cell_type": "markdown",
   "metadata": {},
   "source": [
    "## Let's (scikit)-learn\n",
    "\n",
    "Now that we've explored this data and picked some input variables, it's time to start modeling. \n",
    "\n",
    "We will be using the [**scikit-learn**](https://scikit-learn.org/stable/) (a.k.a. sklearn) library for machine learning. It's a mature library with a comprehensive set of tools and good documentation. It also has an opinionated design that emphasizes reuse and reproducibility through its object-oriented style and \"pipeline\" concepts. We highly recommend starting with scikit-learn for most machine learning situations."
   ]
  },
  {
   "cell_type": "markdown",
   "metadata": {},
   "source": [
    "### Choosing a modeling approach"
   ]
  },
  {
   "cell_type": "markdown",
   "metadata": {},
   "source": [
    "When doing a first-pass model, it's usually a good idea to start with a linear model. As discussed earlier, we're trying to predict **counts**. The generalized linear model family has two models for modeling counts:\n",
    "\n",
    "1. Poisson regression\n",
    "2. Negative binomial regression\n",
    "\n",
    "Poisson regression is the simpler model and fits according to the assumption that the mean and variance of the population distribution are equal. \n",
    "\n",
    "When the mean and variance aren't equal, specifically when the variance is much larger than the mean, the negative binomial approach is better. Why? It isn't magic. The negative binomial regression simply lifts the assumption that the population mean and variance are equal, allowing for a larger class of possible models. In fact, from this perspective, the Poisson distribution is but a special case of the negative binomial distribution.\n",
    "\n",
    "Since scikit-learn has a [`PoissonRegressor`](https://scikit-learn.org/stable/modules/generated/sklearn.linear_model.PoissonRegressor.html) implementation, but not one for negative binomial regression, we'll be doing Poisson regression for this first-pass model.\n",
    "\n",
    "We can, however, check the assumptions really quickly:"
   ]
  },
  {
   "cell_type": "code",
   "execution_count": 22,
   "metadata": {},
   "outputs": [
    {
     "name": "stdout",
     "output_type": "stream",
     "text": [
      "San Juan\n",
      "mean:  34.18055555555556\n",
      "var : 2640.0454396910277\n",
      "\n",
      "Iquitos\n",
      "mean:  7.565384615384615\n",
      "var : 115.89552393656439\n"
     ]
    }
   ],
   "source": [
    "print('San Juan')\n",
    "print('mean: ', sj_train_labels.mean()[0])\n",
    "print('var :', sj_train_labels.var()[0])\n",
    "\n",
    "print('\\nIquitos')\n",
    "print('mean: ', iq_train_labels.mean()[0])\n",
    "print('var :', iq_train_labels.var()[0])"
   ]
  },
  {
   "cell_type": "markdown",
   "metadata": {},
   "source": [
    "It does indeed look like the variance is much higher than the mean for both city's count distributions! This suggests that negative binomial distribution is a better choice statistically, and we have an obvious avenue for the next iteration."
   ]
  },
  {
   "cell_type": "markdown",
   "metadata": {},
   "source": [
    "Let's get started on the modeling by importing the parts of scikit-learn that we will be using."
   ]
  },
  {
   "cell_type": "code",
   "execution_count": 23,
   "metadata": {},
   "outputs": [],
   "source": [
    "from sklearn.preprocessing import StandardScaler, FunctionTransformer\n",
    "from sklearn.compose import ColumnTransformer\n",
    "from sklearn.pipeline import Pipeline\n",
    "from sklearn.base import clone\n",
    "\n",
    "from sklearn.model_selection import train_test_split\n",
    "\n",
    "from sklearn.linear_model import PoissonRegressor\n",
    "\n",
    "# For pipeline visualization\n",
    "from sklearn import set_config\n",
    "set_config(display='diagram') "
   ]
  },
  {
   "cell_type": "markdown",
   "metadata": {},
   "source": [
    "### Loading and splitting data"
   ]
  },
  {
   "cell_type": "markdown",
   "metadata": {},
   "source": [
    "First, let's load the training data again so we have clean, fresh dataframes that haven't been modified. "
   ]
  },
  {
   "cell_type": "code",
   "execution_count": 24,
   "metadata": {},
   "outputs": [
    {
     "name": "stdout",
     "output_type": "stream",
     "text": [
      "sj_features_df (936, 21)\n",
      "iq_features_df (520, 21)\n",
      "sj_labels_df (936, 1)\n",
      "iq_labels_df (520, 1)\n"
     ]
    }
   ],
   "source": [
    "# Let's make a function since we'll be splitting by city a lot\n",
    "def load_data(data_path):\n",
    "    \"\"\"Load data, sorts by time, and split by city\"\"\"\n",
    "    df = pd.read_csv(data_path, index_col=[0, 1, 2])\n",
    "    return df.loc[\"sj\"], df.loc[\"iq\"]\n",
    "\n",
    "sj_features_df, iq_features_df = load_data(DATA_DIR / \"dengue_features_train.csv\")\n",
    "sj_labels_df, iq_labels_df = load_data(DATA_DIR / \"dengue_labels_train.csv\")\n",
    "\n",
    "print(\"sj_features_df\", sj_features_df.shape)\n",
    "print(\"iq_features_df\", iq_features_df.shape)\n",
    "print(\"sj_labels_df\", sj_labels_df.shape)\n",
    "print(\"iq_labels_df\", iq_labels_df.shape)"
   ]
  },
  {
   "cell_type": "markdown",
   "metadata": {},
   "source": [
    "Next, we'll split our data into training and evaluation. It's important when evaluating model performance to do so on data that was not used for training. Evaluating and training on the same data leads to an overconfident evaluation. Since we have time series data, we'll do a strict-future holdout for our evaluation. Our data is already sorted by time, so we can use sklearn's `train_test_split` function _without shuffling_."
   ]
  },
  {
   "cell_type": "code",
   "execution_count": 25,
   "metadata": {},
   "outputs": [],
   "source": [
    "sj_X_train, sj_X_eval, sj_y_train, sj_y_eval = train_test_split(\n",
    "    sj_features_df,\n",
    "    sj_labels_df,\n",
    "    test_size=0.25,\n",
    "    shuffle=False,\n",
    ")\n",
    "\n",
    "iq_X_train, iq_X_eval, iq_y_train, iq_y_eval = train_test_split(\n",
    "    iq_features_df,\n",
    "    iq_labels_df,\n",
    "    test_size=0.25,\n",
    "    shuffle=False,\n",
    ")"
   ]
  },
  {
   "cell_type": "markdown",
   "metadata": {},
   "source": [
    "### Data Preprocessing"
   ]
  },
  {
   "cell_type": "markdown",
   "metadata": {},
   "source": [
    "Now let's define our preprocessing steps. We'll be doing two main things:\n",
    "- **Scaling**: This step is not critical but often useful to generally do as a rule of thumb. In our case, scaling will help the model regularize features more effectively. It will also give us model weights that can be compared across features and interpreted as feature importances. \n",
    "- **Missing Value Imputation**: This step is necessary. Most machine learning models don't handle missing values. Because we have a time series problem, we'll use forward-fill imputation as a first pass approach, where we fill using the previous timestep's value. "
   ]
  },
  {
   "cell_type": "markdown",
   "metadata": {},
   "source": [
    "sklearn doesn't have a forward-fill imputation transformer, so we'll need to make our own. This is a good demonstration of sklearn's `FunctionTransformer` class, which you can use to implement simple functions into sklearn transformers. We define a function `forward_fill` which takes a numpy array, uses the `ffill` functionality from pandas, and then returns the data back as a numpy array."
   ]
  },
  {
   "cell_type": "code",
   "execution_count": 26,
   "metadata": {},
   "outputs": [],
   "source": [
    "def forward_fill(array):\n",
    "    return pd.DataFrame(array).ffill().values\n",
    "\n",
    "forward_imputer = FunctionTransformer(forward_fill)"
   ]
  },
  {
   "cell_type": "markdown",
   "metadata": {},
   "source": [
    "Next, we'll stitch together our preprocessing steps into a preprocessor object that can be fitted and reused. We will use the `ColumnTransformer` class, which is the way sklearn expects you to pull columns out of a pandas dataframe and apply data transformations. In setting up the `ColumnTransformer`, we chain together our two preprocessing steps into one transformer using `Pipeline`, and then we set that we want to apply it to our subset of features. We will have the `ColumnTransformer` drop the remainder of the dataframe columns. "
   ]
  },
  {
   "cell_type": "code",
   "execution_count": 27,
   "metadata": {},
   "outputs": [],
   "source": [
    "features_to_use = [\n",
    "    \"reanalysis_specific_humidity_g_per_kg\", \n",
    "    \"reanalysis_dew_point_temp_k\", \n",
    "    \"station_avg_temp_c\", \n",
    "    \"station_min_temp_c\"\n",
    "]\n",
    "\n",
    "preprocessing_steps = Pipeline([\n",
    "    (\"standard_scaler\", StandardScaler()),\n",
    "    (\"forward_imputer\", forward_imputer)\n",
    "])\n",
    "\n",
    "sj_preprocessor = ColumnTransformer(\n",
    "    transformers = [\n",
    "        (\"features\", preprocessing_steps, features_to_use)\n",
    "    ],\n",
    "    remainder = \"drop\"\n",
    ")"
   ]
  },
  {
   "cell_type": "markdown",
   "metadata": {},
   "source": [
    "We actually will need a second preprocessor object. This is because the scaling is fit to data, so we need one for San Juan and another for Iquitos. You'll notice we named the preprocessor we just created `sj_preprocessor`. We can use the `clone` function make a copy for `iq`. "
   ]
  },
  {
   "cell_type": "code",
   "execution_count": 28,
   "metadata": {},
   "outputs": [],
   "source": [
    "iq_preprocessor = clone(sj_preprocessor)"
   ]
  },
  {
   "cell_type": "markdown",
   "metadata": {},
   "source": [
    "## Pipeline"
   ]
  },
  {
   "cell_type": "markdown",
   "metadata": {},
   "source": [
    "Now we'll wrap up our full modeling workflow, including the Poisson Regression model itself, into sklearn `Pipeline` objects. We used these earlier to chain our scaling and imputation. Pipelines encapsulate everything into one object with one interface, which makes it easy to train a model, save it to one file for later (e.g., by [pickling](https://docs.python.org/3/library/pickle.html)), reload it, and use it again. It's a valuable tool in making your machine learning models reusable and reproducible."
   ]
  },
  {
   "cell_type": "code",
   "execution_count": 29,
   "metadata": {},
   "outputs": [
    {
     "data": {
      "text/html": [
       "<style>div.sk-top-container {color: black;background-color: white;}div.sk-toggleable {background-color: white;}label.sk-toggleable__label {cursor: pointer;display: block;width: 100%;margin-bottom: 0;padding: 0.2em 0.3em;box-sizing: border-box;text-align: center;}div.sk-toggleable__content {max-height: 0;max-width: 0;overflow: hidden;text-align: left;background-color: #f0f8ff;}div.sk-toggleable__content pre {margin: 0.2em;color: black;border-radius: 0.25em;background-color: #f0f8ff;}input.sk-toggleable__control:checked~div.sk-toggleable__content {max-height: 200px;max-width: 100%;overflow: auto;}div.sk-estimator input.sk-toggleable__control:checked~label.sk-toggleable__label {background-color: #d4ebff;}div.sk-label input.sk-toggleable__control:checked~label.sk-toggleable__label {background-color: #d4ebff;}input.sk-hidden--visually {border: 0;clip: rect(1px 1px 1px 1px);clip: rect(1px, 1px, 1px, 1px);height: 1px;margin: -1px;overflow: hidden;padding: 0;position: absolute;width: 1px;}div.sk-estimator {font-family: monospace;background-color: #f0f8ff;margin: 0.25em 0.25em;border: 1px dotted black;border-radius: 0.25em;box-sizing: border-box;}div.sk-estimator:hover {background-color: #d4ebff;}div.sk-parallel-item::after {content: \"\";width: 100%;border-bottom: 1px solid gray;flex-grow: 1;}div.sk-label:hover label.sk-toggleable__label {background-color: #d4ebff;}div.sk-serial::before {content: \"\";position: absolute;border-left: 1px solid gray;box-sizing: border-box;top: 2em;bottom: 0;left: 50%;}div.sk-serial {display: flex;flex-direction: column;align-items: center;background-color: white;}div.sk-item {z-index: 1;}div.sk-parallel {display: flex;align-items: stretch;justify-content: center;background-color: white;}div.sk-parallel-item {display: flex;flex-direction: column;position: relative;background-color: white;}div.sk-parallel-item:first-child::after {align-self: flex-end;width: 50%;}div.sk-parallel-item:last-child::after {align-self: flex-start;width: 50%;}div.sk-parallel-item:only-child::after {width: 0;}div.sk-dashed-wrapped {border: 1px dashed gray;margin: 0.2em;box-sizing: border-box;padding-bottom: 0.1em;background-color: white;position: relative;}div.sk-label label {font-family: monospace;font-weight: bold;background-color: white;display: inline-block;line-height: 1.2em;}div.sk-label-container {position: relative;z-index: 2;text-align: center;}div.sk-container {display: inline-block;position: relative;}</style><div class=\"sk-top-container\"><div class=\"sk-container\"><div class=\"sk-item sk-dashed-wrapped\"><div class=\"sk-label-container\"><div class=\"sk-label sk-toggleable\"><input class=\"sk-toggleable__control sk-hidden--visually\" id=\"d4aceb76-59a5-44c6-a738-f8f72113c2b7\" type=\"checkbox\" ><label class=\"sk-toggleable__label\" for=\"d4aceb76-59a5-44c6-a738-f8f72113c2b7\">Pipeline</label><div class=\"sk-toggleable__content\"><pre>Pipeline(steps=[('preprocessor',\n",
       "                 ColumnTransformer(transformers=[('features',\n",
       "                                                  Pipeline(steps=[('standard_scaler',\n",
       "                                                                   StandardScaler()),\n",
       "                                                                  ('forward_imputer',\n",
       "                                                                   FunctionTransformer(func=<function forward_fill at 0x7f97cc150ca0>))]),\n",
       "                                                  ['reanalysis_specific_humidity_g_per_kg',\n",
       "                                                   'reanalysis_dew_point_temp_k',\n",
       "                                                   'station_avg_temp_c',\n",
       "                                                   'station_min_temp_c'])])),\n",
       "                ('estimator', PoissonRegressor())])</pre></div></div></div><div class=\"sk-serial\"><div class=\"sk-item sk-dashed-wrapped\"><div class=\"sk-label-container\"><div class=\"sk-label sk-toggleable\"><input class=\"sk-toggleable__control sk-hidden--visually\" id=\"7a08cc8e-2740-4db3-a8c0-50fe5ffaa7fd\" type=\"checkbox\" ><label class=\"sk-toggleable__label\" for=\"7a08cc8e-2740-4db3-a8c0-50fe5ffaa7fd\">preprocessor: ColumnTransformer</label><div class=\"sk-toggleable__content\"><pre>ColumnTransformer(transformers=[('features',\n",
       "                                 Pipeline(steps=[('standard_scaler',\n",
       "                                                  StandardScaler()),\n",
       "                                                 ('forward_imputer',\n",
       "                                                  FunctionTransformer(func=<function forward_fill at 0x7f97cc150ca0>))]),\n",
       "                                 ['reanalysis_specific_humidity_g_per_kg',\n",
       "                                  'reanalysis_dew_point_temp_k',\n",
       "                                  'station_avg_temp_c',\n",
       "                                  'station_min_temp_c'])])</pre></div></div></div><div class=\"sk-parallel\"><div class=\"sk-parallel-item\"><div class=\"sk-item\"><div class=\"sk-label-container\"><div class=\"sk-label sk-toggleable\"><input class=\"sk-toggleable__control sk-hidden--visually\" id=\"d070e3bc-6bb1-4a33-aff2-e3ad864d9ed6\" type=\"checkbox\" ><label class=\"sk-toggleable__label\" for=\"d070e3bc-6bb1-4a33-aff2-e3ad864d9ed6\">features</label><div class=\"sk-toggleable__content\"><pre>['reanalysis_specific_humidity_g_per_kg', 'reanalysis_dew_point_temp_k', 'station_avg_temp_c', 'station_min_temp_c']</pre></div></div></div><div class=\"sk-serial\"><div class=\"sk-item\"><div class=\"sk-serial\"><div class=\"sk-item\"><div class=\"sk-estimator sk-toggleable\"><input class=\"sk-toggleable__control sk-hidden--visually\" id=\"b571a787-7d13-4467-a9a1-7473dac4bfaf\" type=\"checkbox\" ><label class=\"sk-toggleable__label\" for=\"b571a787-7d13-4467-a9a1-7473dac4bfaf\">StandardScaler</label><div class=\"sk-toggleable__content\"><pre>StandardScaler()</pre></div></div></div><div class=\"sk-item\"><div class=\"sk-estimator sk-toggleable\"><input class=\"sk-toggleable__control sk-hidden--visually\" id=\"335441a3-8ca2-454d-b0c6-6ea1539303fa\" type=\"checkbox\" ><label class=\"sk-toggleable__label\" for=\"335441a3-8ca2-454d-b0c6-6ea1539303fa\">FunctionTransformer</label><div class=\"sk-toggleable__content\"><pre>FunctionTransformer(func=<function forward_fill at 0x7f97cc150ca0>)</pre></div></div></div></div></div></div></div></div></div></div><div class=\"sk-item\"><div class=\"sk-estimator sk-toggleable\"><input class=\"sk-toggleable__control sk-hidden--visually\" id=\"b2cf0b43-ec8e-4bae-ab44-dc43144f3d92\" type=\"checkbox\" ><label class=\"sk-toggleable__label\" for=\"b2cf0b43-ec8e-4bae-ab44-dc43144f3d92\">PoissonRegressor</label><div class=\"sk-toggleable__content\"><pre>PoissonRegressor()</pre></div></div></div></div></div></div></div>"
      ],
      "text/plain": [
       "Pipeline(steps=[('preprocessor',\n",
       "                 ColumnTransformer(transformers=[('features',\n",
       "                                                  Pipeline(steps=[('standard_scaler',\n",
       "                                                                   StandardScaler()),\n",
       "                                                                  ('forward_imputer',\n",
       "                                                                   FunctionTransformer(func=<function forward_fill at 0x7f97cc150ca0>))]),\n",
       "                                                  ['reanalysis_specific_humidity_g_per_kg',\n",
       "                                                   'reanalysis_dew_point_temp_k',\n",
       "                                                   'station_avg_temp_c',\n",
       "                                                   'station_min_temp_c'])])),\n",
       "                ('estimator', PoissonRegressor())])"
      ]
     },
     "execution_count": 29,
     "metadata": {},
     "output_type": "execute_result"
    }
   ],
   "source": [
    "sj_pipeline = Pipeline([\n",
    "    (\"preprocessor\", sj_preprocessor),\n",
    "    (\"estimator\", PoissonRegressor())\n",
    "])\n",
    "\n",
    "iq_pipeline = Pipeline([\n",
    "    (\"preprocessor\", iq_preprocessor),\n",
    "    (\"estimator\", PoissonRegressor())\n",
    "])\n",
    "\n",
    "iq_pipeline"
   ]
  },
  {
   "cell_type": "markdown",
   "metadata": {},
   "source": [
    "Now, let's fit our models and evaluate them!"
   ]
  },
  {
   "cell_type": "code",
   "execution_count": 30,
   "metadata": {},
   "outputs": [],
   "source": [
    "sj_pipeline.fit(sj_X_train, sj_y_train)\n",
    "iq_pipeline.fit(iq_X_train, iq_y_train)\n",
    "\n",
    "sj_preds = sj_pipeline.predict(sj_X_eval)\n",
    "iq_preds = iq_pipeline.predict(iq_X_eval)"
   ]
  },
  {
   "cell_type": "markdown",
   "metadata": {},
   "source": [
    "We'll plot the predictions against the true case counts for both models. "
   ]
  },
  {
   "cell_type": "code",
   "execution_count": 31,
   "metadata": {},
   "outputs": [
    {
     "data": {
      "image/png": "[encoded data removed]",
      "text/plain": [
       "<Figure size 720x504 with 2 Axes>"
      ]
     },
     "metadata": {
      "needs_background": "light"
     },
     "output_type": "display_data"
    }
   ],
   "source": [
    "figs, axes = plt.subplots(nrows=2, ncols=1, figsize=(10,7))\n",
    "\n",
    "sj_y_eval.plot(ax=axes[0],legend=None)\n",
    "axes[0].plot(sj_preds, label=\"Predictions\")\n",
    "axes[0].set_ylabel(\"SJ Case Count\")\n",
    "\n",
    "iq_y_eval.rename(columns={\"total_cases\": \"Actual\"}).plot(ax=axes[1])\n",
    "axes[1].plot(iq_preds, label=\"Predictions\")\n",
    "axes[1].set_ylabel(\"IQ Case Count\")\n",
    "\n",
    "plt.suptitle(\"Dengue Predicted Cases vs. Actual Cases\")\n",
    "plt.legend()\n",
    "None"
   ]
  },
  {
   "cell_type": "markdown",
   "metadata": {},
   "source": [
    "## Reflecting on our performance\n",
    "\n",
    "These graphs can actually tell us a lot about where our model is going wrong and give us some good hints about where investments will improve the model performance. \n",
    "\n",
    "For example, we see that our model in orange does track the seasonality of dengue cases. However, the timing of the seasonality of our predictions has a mismatch with the actual results. One potential reason for this is that our features don't look far enough into the past—that is to say, we are asking to predict cases at the same time as we are measuring percipitation. Because dengue is mosquito-borne, and the mosquito lifecycle depends on water, we need to take both the life of a mosquito and the time between infection and symptoms into account when modeling dengue. This is a critical avenue to explore when improving this model.\n",
    "\n",
    "The other important error is that our predictions are relatively consistent—we miss the spikes that are large outbreaks. One reason is that we don't take into account the contagiousness of dengue. A possible way to account for this is to build a model that progressively predicts a new value while taking into account the previous prediction. By training on the dengue outbreaks and then using the predicted number of patients in the week before, we can start to model this time dependence that the current model misses.\n",
    "\n",
    "We also know that Poisson regression is not the best-suited for this dataset. We saw earlier than our variance in counts is higher than the mean, making it negative binomial regression more appropriate. While sklearn doesn't offer negative binomial regression, we could use the [statsmodel](https://www.statsmodels.org/stable/generated/statsmodels.genmod.families.family.NegativeBinomial.html) package. We can also take advantage of sklearn's extendability to wrap statsmodel's `NegativeBinomial` model inside custom sklearn estimator, so that we can plug it into our sklearn pipeline. More about custom sklearn estimators is available in their [documentation](https://scikit-learn.org/stable/developers/develop.html#rolling-your-own-estimator). \n",
    "\n",
    "So, we know we're not going to win this thing, but let's submit the predictions anyway!"
   ]
  },
  {
   "cell_type": "markdown",
   "metadata": {},
   "source": [
    "### Generating a submission"
   ]
  },
  {
   "cell_type": "markdown",
   "metadata": {},
   "source": [
    "First, we want to retrain our models on the full dataset."
   ]
  },
  {
   "cell_type": "code",
   "execution_count": 32,
   "metadata": {},
   "outputs": [],
   "source": [
    "sj_pipeline.fit(sj_features_df, sj_labels_df)\n",
    "iq_pipeline.fit(iq_features_df, iq_labels_df)\n",
    "None # Don't print diagram"
   ]
  },
  {
   "cell_type": "markdown",
   "metadata": {},
   "source": [
    "Now, we'll load our test data and generate predictions."
   ]
  },
  {
   "cell_type": "code",
   "execution_count": 33,
   "metadata": {},
   "outputs": [
    {
     "name": "stdout",
     "output_type": "stream",
     "text": [
      "sj_test_df (260, 21)\n",
      "iq_test_df (156, 21)\n"
     ]
    }
   ],
   "source": [
    "sj_test_df, iq_test_df = load_data(DATA_DIR / \"dengue_features_test.csv\")\n",
    "\n",
    "print(\"sj_test_df\", sj_test_df.shape)\n",
    "print(\"iq_test_df\", iq_test_df.shape)"
   ]
  },
  {
   "cell_type": "code",
   "execution_count": 34,
   "metadata": {},
   "outputs": [],
   "source": [
    "sj_test_preds = sj_pipeline.predict(sj_test_df)\n",
    "iq_test_preds = iq_pipeline.predict(iq_test_df)"
   ]
  },
  {
   "cell_type": "markdown",
   "metadata": {},
   "source": [
    "Then, we'll load up the submission format and plug our predictions in. "
   ]
  },
  {
   "cell_type": "code",
   "execution_count": 35,
   "metadata": {},
   "outputs": [
    {
     "name": "stdout",
     "output_type": "stream",
     "text": [
      "OUTPUT_DIR :  /Users/jqi/repos/intro-to-reproducible-ml/data/processed\n"
     ]
    }
   ],
   "source": [
    "OUTPUT_DIR = PROJ_ROOT / \"data\" / \"processed\"\n",
    "print(\"OUTPUT_DIR : \", OUTPUT_DIR)"
   ]
  },
  {
   "cell_type": "code",
   "execution_count": 36,
   "metadata": {},
   "outputs": [
    {
     "data": {
      "text/html": [
       "<div>\n",
       "<style scoped>\n",
       "    .dataframe tbody tr th:only-of-type {\n",
       "        vertical-align: middle;\n",
       "    }\n",
       "\n",
       "    .dataframe tbody tr th {\n",
       "        vertical-align: top;\n",
       "    }\n",
       "\n",
       "    .dataframe thead th {\n",
       "        text-align: right;\n",
       "    }\n",
       "</style>\n",
       "<table border=\"1\" class=\"dataframe\">\n",
       "  <thead>\n",
       "    <tr style=\"text-align: right;\">\n",
       "      <th></th>\n",
       "      <th></th>\n",
       "      <th></th>\n",
       "      <th>total_cases</th>\n",
       "    </tr>\n",
       "    <tr>\n",
       "      <th>city</th>\n",
       "      <th>year</th>\n",
       "      <th>weekofyear</th>\n",
       "      <th></th>\n",
       "    </tr>\n",
       "  </thead>\n",
       "  <tbody>\n",
       "    <tr>\n",
       "      <th rowspan=\"10\" valign=\"top\">sj</th>\n",
       "      <th rowspan=\"10\" valign=\"top\">2008</th>\n",
       "      <th>18</th>\n",
       "      <td>28</td>\n",
       "    </tr>\n",
       "    <tr>\n",
       "      <th>19</th>\n",
       "      <td>26</td>\n",
       "    </tr>\n",
       "    <tr>\n",
       "      <th>20</th>\n",
       "      <td>36</td>\n",
       "    </tr>\n",
       "    <tr>\n",
       "      <th>21</th>\n",
       "      <td>29</td>\n",
       "    </tr>\n",
       "    <tr>\n",
       "      <th>22</th>\n",
       "      <td>31</td>\n",
       "    </tr>\n",
       "    <tr>\n",
       "      <th>23</th>\n",
       "      <td>33</td>\n",
       "    </tr>\n",
       "    <tr>\n",
       "      <th>24</th>\n",
       "      <td>35</td>\n",
       "    </tr>\n",
       "    <tr>\n",
       "      <th>25</th>\n",
       "      <td>41</td>\n",
       "    </tr>\n",
       "    <tr>\n",
       "      <th>26</th>\n",
       "      <td>43</td>\n",
       "    </tr>\n",
       "    <tr>\n",
       "      <th>27</th>\n",
       "      <td>42</td>\n",
       "    </tr>\n",
       "  </tbody>\n",
       "</table>\n",
       "</div>"
      ],
      "text/plain": [
       "                      total_cases\n",
       "city year weekofyear             \n",
       "sj   2008 18                   28\n",
       "          19                   26\n",
       "          20                   36\n",
       "          21                   29\n",
       "          22                   31\n",
       "          23                   33\n",
       "          24                   35\n",
       "          25                   41\n",
       "          26                   43\n",
       "          27                   42"
      ]
     },
     "execution_count": 36,
     "metadata": {},
     "output_type": "execute_result"
    }
   ],
   "source": [
    "sj_submission_df, iq_submission_df = load_data(DATA_DIR / \"submission_format.csv\")\n",
    "\n",
    "sj_submission_df[\"total_cases\"] = sj_test_preds.astype(int)\n",
    "iq_submission_df[\"total_cases\"] = iq_test_preds.astype(int)\n",
    "\n",
    "# Rejoin SJ and IQ together. \n",
    "submission_df = pd.concat({\n",
    "    \"sj\": sj_submission_df, \n",
    "    \"iq\": iq_submission_df\n",
    "}, names=[\"city\"])\n",
    "\n",
    "# order reorder based on original order\n",
    "\n",
    "submission_df.to_csv(OUTPUT_DIR / \"submission.csv\")\n",
    "\n",
    "submission_df.head(10)"
   ]
  },
  {
   "cell_type": "markdown",
   "metadata": {},
   "source": [
    "Head to the [competition submission page](https://www.drivendata.org/competitions/44/dengai-predicting-disease-spread/submissions/) and submit the predictions."
   ]
  },
  {
   "cell_type": "markdown",
   "metadata": {},
   "source": [
    "<img src=\"https://drivendata-public-assets.s3.amazonaws.com/gtf-intro-to-reproducible-ml-submission.png\" alt=\"Submission\" width=\"500\" />"
   ]
  },
  {
   "cell_type": "markdown",
   "metadata": {},
   "source": [
    "Alright, it's a start! "
   ]
  }
 ],
 "metadata": {
  "anaconda-cloud": {},
  "kernelspec": {
   "display_name": "Python 3",
   "language": "python",
   "name": "python3"
  },
  "language_info": {
   "codemirror_mode": {
    "name": "ipython",
    "version": 3
   },
   "file_extension": ".py",
   "mimetype": "text/x-python",
   "name": "python",
   "nbconvert_exporter": "python",
   "pygments_lexer": "ipython3",
   "version": "3.8.6"
  }
 },
 "nbformat": 4,
 "nbformat_minor": 4
}
